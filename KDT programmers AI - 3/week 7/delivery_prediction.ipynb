{
 "cells": [
  {
   "cell_type": "markdown",
   "metadata": {},
   "source": [
    "# 문제설명\n",
    "## 음식배달 서비스(배민, 쿠팡이츠 등)를 위한 예측모델\n",
    "- 이 모델이 예측하는 값 :  \"음식배달에 걸리는 시간\"\n",
    "- 예측 배달시간보다 실제 배달시간이 더 걸린 경우(under-prediction)가 반대(over-prediction)보다 두 배로 사용자의 경험에 안 좋은 영향을 끼친다.\n",
    "- 가능한 실제 배달시간과 가까운 값을 예측하되 동시에 under-prediction을 최소화하자.\n"
   ]
  },
  {
   "cell_type": "markdown",
   "metadata": {},
   "source": [
    "\n",
    "# 학습/테스트 데이터\n",
    "##  \"delivery_raw.csv\" \n",
    "\n",
    "> ### 시간 속성  \n",
    "> - market_id: 지역(배달이 이루어지는 도시) 아이디\n",
    "> - created_at: 주문이 생성된 시간의 Timestamp(UTC)\n",
    "> - actual_delivery_time: 주문자가 배달을 받은 시간의 Timestamp(UTC)\n",
    "> ### 식당 속성\n",
    "> - store_id: 식당 아이디\n",
    "> - store_primary_category: 식당의 카테고리(italian, asian 등)\n",
    "> - order_protocol: 주문을 받을 수 있는 방식을 나타내는 아이디\n",
    "> ### 주문 속성\n",
    "> - total_items: 주문에 포함된 아이템(음식) 개수\n",
    "> - subtotal: 가격(센트 단위)\n",
    "> - num_distinct_items: 주문에 포함된 비중복 아이템 개수\n",
    "> - min_item_price: 주문에 포함된 아이템 중 가장 싼 아이템의 가격\n",
    "> - max_item_price: 주문에 포함된 아이템 중 가장 비싼 아이템의 가격\n",
    "> ### 지역 상황 속성\n",
    "> - total_onshift: 주문이 생성되었을 때 가게로부터 10마일 이내에 있는 배달원들의 수\n",
    "> - total_busy: 위 배달원들 중 주문에 관여하고 있는 사람들의 수\n",
    "> - total_outstanding_orders: 주문한 가게로부터 10마일 이내에 있는 다른 주문들의 수\n",
    "> ### 다른 모델들의 예측값\n",
    "> - estimated_order_place_duration: 식당이 주문을 받을 때까지 걸릴 것으로 예상되는 시간(초단위)\n",
    "> - estimated_store_to_consumer_driving_duration: 식당에서 출발해 주문자에 도착할 때까지 걸릴 것으로 예측되는 시간(초단위)\n",
    "   \n",
    "\n",
    "\n",
    "위 속성들 중 actual_delivery_time을 제외한 모든 속성들을 모델의 입력으로 사용할 수 있습니다.  \n",
    "모델이 예측해야하는 값은 actual_delivery_time과 created_at을 사용해서 생성하면 됩니다(초단위로 표현된 두 속성의 차이값).  \n",
    "\n",
    "\n",
    "\n",
    "주어진 이 속성들 외에 이것들로부터 파생될 수 있는 속성들을 추가로 만들어서 사용할 수도 있습니다.\n"
   ]
  },
  {
   "cell_type": "code",
   "execution_count": 1,
   "metadata": {},
   "outputs": [],
   "source": [
    "import pandas as pd\n",
    "import numpy as np\n",
    "import matplotlib.pyplot as plt\n",
    "import seaborn as sns\n",
    "\n",
    "%matplotlib inline"
   ]
  },
  {
   "cell_type": "code",
   "execution_count": 2,
   "metadata": {},
   "outputs": [
    {
     "data": {
      "text/html": [
       "<div>\n",
       "<style scoped>\n",
       "    .dataframe tbody tr th:only-of-type {\n",
       "        vertical-align: middle;\n",
       "    }\n",
       "\n",
       "    .dataframe tbody tr th {\n",
       "        vertical-align: top;\n",
       "    }\n",
       "\n",
       "    .dataframe thead th {\n",
       "        text-align: right;\n",
       "    }\n",
       "</style>\n",
       "<table border=\"1\" class=\"dataframe\">\n",
       "  <thead>\n",
       "    <tr style=\"text-align: right;\">\n",
       "      <th></th>\n",
       "      <th>market_id</th>\n",
       "      <th>created_at</th>\n",
       "      <th>actual_delivery_time</th>\n",
       "      <th>store_id</th>\n",
       "      <th>store_primary_category</th>\n",
       "      <th>order_protocol</th>\n",
       "      <th>total_items</th>\n",
       "      <th>subtotal</th>\n",
       "      <th>num_distinct_items</th>\n",
       "      <th>min_item_price</th>\n",
       "      <th>max_item_price</th>\n",
       "      <th>total_onshift</th>\n",
       "      <th>total_busy</th>\n",
       "      <th>total_outstanding_orders</th>\n",
       "      <th>estimated_order_place_duration</th>\n",
       "      <th>estimated_store_to_consumer_driving_duration</th>\n",
       "    </tr>\n",
       "  </thead>\n",
       "  <tbody>\n",
       "    <tr>\n",
       "      <th>0</th>\n",
       "      <td>1.0</td>\n",
       "      <td>2015-02-06 22:24:17</td>\n",
       "      <td>2015-02-06 23:27:16</td>\n",
       "      <td>1845</td>\n",
       "      <td>american</td>\n",
       "      <td>1.0</td>\n",
       "      <td>4</td>\n",
       "      <td>3441</td>\n",
       "      <td>4</td>\n",
       "      <td>557</td>\n",
       "      <td>1239</td>\n",
       "      <td>33.0</td>\n",
       "      <td>14.0</td>\n",
       "      <td>21.0</td>\n",
       "      <td>446</td>\n",
       "      <td>861.0</td>\n",
       "    </tr>\n",
       "    <tr>\n",
       "      <th>1</th>\n",
       "      <td>2.0</td>\n",
       "      <td>2015-02-10 21:49:25</td>\n",
       "      <td>2015-02-10 22:56:29</td>\n",
       "      <td>5477</td>\n",
       "      <td>mexican</td>\n",
       "      <td>2.0</td>\n",
       "      <td>1</td>\n",
       "      <td>1900</td>\n",
       "      <td>1</td>\n",
       "      <td>1400</td>\n",
       "      <td>1400</td>\n",
       "      <td>1.0</td>\n",
       "      <td>2.0</td>\n",
       "      <td>2.0</td>\n",
       "      <td>446</td>\n",
       "      <td>690.0</td>\n",
       "    </tr>\n",
       "    <tr>\n",
       "      <th>2</th>\n",
       "      <td>3.0</td>\n",
       "      <td>2015-01-22 20:39:28</td>\n",
       "      <td>2015-01-22 21:09:09</td>\n",
       "      <td>5477</td>\n",
       "      <td>NaN</td>\n",
       "      <td>1.0</td>\n",
       "      <td>1</td>\n",
       "      <td>1900</td>\n",
       "      <td>1</td>\n",
       "      <td>1900</td>\n",
       "      <td>1900</td>\n",
       "      <td>1.0</td>\n",
       "      <td>0.0</td>\n",
       "      <td>0.0</td>\n",
       "      <td>446</td>\n",
       "      <td>690.0</td>\n",
       "    </tr>\n",
       "    <tr>\n",
       "      <th>3</th>\n",
       "      <td>3.0</td>\n",
       "      <td>2015-02-03 21:21:45</td>\n",
       "      <td>2015-02-03 22:13:00</td>\n",
       "      <td>5477</td>\n",
       "      <td>NaN</td>\n",
       "      <td>1.0</td>\n",
       "      <td>6</td>\n",
       "      <td>6900</td>\n",
       "      <td>5</td>\n",
       "      <td>600</td>\n",
       "      <td>1800</td>\n",
       "      <td>1.0</td>\n",
       "      <td>1.0</td>\n",
       "      <td>2.0</td>\n",
       "      <td>446</td>\n",
       "      <td>289.0</td>\n",
       "    </tr>\n",
       "    <tr>\n",
       "      <th>4</th>\n",
       "      <td>3.0</td>\n",
       "      <td>2015-02-15 02:40:36</td>\n",
       "      <td>2015-02-15 03:20:26</td>\n",
       "      <td>5477</td>\n",
       "      <td>NaN</td>\n",
       "      <td>1.0</td>\n",
       "      <td>3</td>\n",
       "      <td>3900</td>\n",
       "      <td>3</td>\n",
       "      <td>1100</td>\n",
       "      <td>1600</td>\n",
       "      <td>6.0</td>\n",
       "      <td>6.0</td>\n",
       "      <td>9.0</td>\n",
       "      <td>446</td>\n",
       "      <td>650.0</td>\n",
       "    </tr>\n",
       "    <tr>\n",
       "      <th>5</th>\n",
       "      <td>3.0</td>\n",
       "      <td>2015-01-28 20:30:38</td>\n",
       "      <td>2015-01-28 21:08:58</td>\n",
       "      <td>5477</td>\n",
       "      <td>NaN</td>\n",
       "      <td>1.0</td>\n",
       "      <td>3</td>\n",
       "      <td>5000</td>\n",
       "      <td>3</td>\n",
       "      <td>1500</td>\n",
       "      <td>1900</td>\n",
       "      <td>2.0</td>\n",
       "      <td>2.0</td>\n",
       "      <td>2.0</td>\n",
       "      <td>446</td>\n",
       "      <td>338.0</td>\n",
       "    </tr>\n",
       "    <tr>\n",
       "      <th>6</th>\n",
       "      <td>3.0</td>\n",
       "      <td>2015-01-31 02:16:36</td>\n",
       "      <td>2015-01-31 02:43:00</td>\n",
       "      <td>5477</td>\n",
       "      <td>NaN</td>\n",
       "      <td>1.0</td>\n",
       "      <td>2</td>\n",
       "      <td>3900</td>\n",
       "      <td>2</td>\n",
       "      <td>1200</td>\n",
       "      <td>2700</td>\n",
       "      <td>10.0</td>\n",
       "      <td>9.0</td>\n",
       "      <td>9.0</td>\n",
       "      <td>446</td>\n",
       "      <td>638.0</td>\n",
       "    </tr>\n",
       "    <tr>\n",
       "      <th>7</th>\n",
       "      <td>3.0</td>\n",
       "      <td>2015-02-12 03:03:35</td>\n",
       "      <td>2015-02-12 03:36:20</td>\n",
       "      <td>5477</td>\n",
       "      <td>NaN</td>\n",
       "      <td>1.0</td>\n",
       "      <td>4</td>\n",
       "      <td>4850</td>\n",
       "      <td>4</td>\n",
       "      <td>750</td>\n",
       "      <td>1800</td>\n",
       "      <td>7.0</td>\n",
       "      <td>8.0</td>\n",
       "      <td>7.0</td>\n",
       "      <td>446</td>\n",
       "      <td>626.0</td>\n",
       "    </tr>\n",
       "    <tr>\n",
       "      <th>8</th>\n",
       "      <td>2.0</td>\n",
       "      <td>2015-02-16 00:11:35</td>\n",
       "      <td>2015-02-16 00:38:01</td>\n",
       "      <td>5477</td>\n",
       "      <td>indian</td>\n",
       "      <td>3.0</td>\n",
       "      <td>4</td>\n",
       "      <td>4771</td>\n",
       "      <td>3</td>\n",
       "      <td>820</td>\n",
       "      <td>1604</td>\n",
       "      <td>8.0</td>\n",
       "      <td>6.0</td>\n",
       "      <td>18.0</td>\n",
       "      <td>446</td>\n",
       "      <td>289.0</td>\n",
       "    </tr>\n",
       "    <tr>\n",
       "      <th>9</th>\n",
       "      <td>3.0</td>\n",
       "      <td>2015-02-18 01:15:45</td>\n",
       "      <td>2015-02-18 02:08:57</td>\n",
       "      <td>5477</td>\n",
       "      <td>NaN</td>\n",
       "      <td>1.0</td>\n",
       "      <td>2</td>\n",
       "      <td>2100</td>\n",
       "      <td>2</td>\n",
       "      <td>700</td>\n",
       "      <td>1200</td>\n",
       "      <td>2.0</td>\n",
       "      <td>2.0</td>\n",
       "      <td>2.0</td>\n",
       "      <td>446</td>\n",
       "      <td>715.0</td>\n",
       "    </tr>\n",
       "    <tr>\n",
       "      <th>10</th>\n",
       "      <td>3.0</td>\n",
       "      <td>2015-02-02 19:22:53</td>\n",
       "      <td>2015-02-02 20:09:19</td>\n",
       "      <td>5477</td>\n",
       "      <td>NaN</td>\n",
       "      <td>4.0</td>\n",
       "      <td>4</td>\n",
       "      <td>4300</td>\n",
       "      <td>4</td>\n",
       "      <td>1200</td>\n",
       "      <td>1500</td>\n",
       "      <td>1.0</td>\n",
       "      <td>1.0</td>\n",
       "      <td>1.0</td>\n",
       "      <td>446</td>\n",
       "      <td>453.0</td>\n",
       "    </tr>\n",
       "    <tr>\n",
       "      <th>11</th>\n",
       "      <td>3.0</td>\n",
       "      <td>2015-02-16 04:19:33</td>\n",
       "      <td>2015-02-16 06:34:00</td>\n",
       "      <td>5477</td>\n",
       "      <td>NaN</td>\n",
       "      <td>1.0</td>\n",
       "      <td>2</td>\n",
       "      <td>2200</td>\n",
       "      <td>2</td>\n",
       "      <td>600</td>\n",
       "      <td>1600</td>\n",
       "      <td>3.0</td>\n",
       "      <td>3.0</td>\n",
       "      <td>4.0</td>\n",
       "      <td>446</td>\n",
       "      <td>642.0</td>\n",
       "    </tr>\n",
       "    <tr>\n",
       "      <th>12</th>\n",
       "      <td>3.0</td>\n",
       "      <td>2015-02-07 01:34:31</td>\n",
       "      <td>2015-02-07 02:17:14</td>\n",
       "      <td>5477</td>\n",
       "      <td>NaN</td>\n",
       "      <td>1.0</td>\n",
       "      <td>1</td>\n",
       "      <td>1900</td>\n",
       "      <td>1</td>\n",
       "      <td>1900</td>\n",
       "      <td>1900</td>\n",
       "      <td>6.0</td>\n",
       "      <td>3.0</td>\n",
       "      <td>3.0</td>\n",
       "      <td>446</td>\n",
       "      <td>690.0</td>\n",
       "    </tr>\n",
       "    <tr>\n",
       "      <th>13</th>\n",
       "      <td>3.0</td>\n",
       "      <td>2015-01-25 01:50:51</td>\n",
       "      <td>2015-01-25 02:28:53</td>\n",
       "      <td>5477</td>\n",
       "      <td>NaN</td>\n",
       "      <td>4.0</td>\n",
       "      <td>4</td>\n",
       "      <td>4986</td>\n",
       "      <td>4</td>\n",
       "      <td>699</td>\n",
       "      <td>2362</td>\n",
       "      <td>16.0</td>\n",
       "      <td>6.0</td>\n",
       "      <td>9.0</td>\n",
       "      <td>446</td>\n",
       "      <td>445.0</td>\n",
       "    </tr>\n",
       "    <tr>\n",
       "      <th>14</th>\n",
       "      <td>1.0</td>\n",
       "      <td>2015-02-12 03:36:46</td>\n",
       "      <td>2015-02-12 04:14:39</td>\n",
       "      <td>2841</td>\n",
       "      <td>italian</td>\n",
       "      <td>1.0</td>\n",
       "      <td>1</td>\n",
       "      <td>1525</td>\n",
       "      <td>1</td>\n",
       "      <td>1525</td>\n",
       "      <td>1525</td>\n",
       "      <td>5.0</td>\n",
       "      <td>6.0</td>\n",
       "      <td>8.0</td>\n",
       "      <td>446</td>\n",
       "      <td>795.0</td>\n",
       "    </tr>\n",
       "    <tr>\n",
       "      <th>15</th>\n",
       "      <td>1.0</td>\n",
       "      <td>2015-01-27 02:12:36</td>\n",
       "      <td>2015-01-27 03:02:24</td>\n",
       "      <td>2841</td>\n",
       "      <td>italian</td>\n",
       "      <td>1.0</td>\n",
       "      <td>2</td>\n",
       "      <td>3620</td>\n",
       "      <td>2</td>\n",
       "      <td>1425</td>\n",
       "      <td>2195</td>\n",
       "      <td>5.0</td>\n",
       "      <td>5.0</td>\n",
       "      <td>7.0</td>\n",
       "      <td>446</td>\n",
       "      <td>205.0</td>\n",
       "    </tr>\n",
       "    <tr>\n",
       "      <th>16</th>\n",
       "      <td>1.0</td>\n",
       "      <td>2015-02-06 00:42:42</td>\n",
       "      <td>2015-02-06 02:10:29</td>\n",
       "      <td>2841</td>\n",
       "      <td>italian</td>\n",
       "      <td>1.0</td>\n",
       "      <td>3</td>\n",
       "      <td>4475</td>\n",
       "      <td>3</td>\n",
       "      <td>925</td>\n",
       "      <td>1825</td>\n",
       "      <td>4.0</td>\n",
       "      <td>1.0</td>\n",
       "      <td>1.0</td>\n",
       "      <td>446</td>\n",
       "      <td>542.0</td>\n",
       "    </tr>\n",
       "    <tr>\n",
       "      <th>17</th>\n",
       "      <td>1.0</td>\n",
       "      <td>2015-02-08 02:04:17</td>\n",
       "      <td>2015-02-08 03:27:13</td>\n",
       "      <td>2841</td>\n",
       "      <td>italian</td>\n",
       "      <td>1.0</td>\n",
       "      <td>3</td>\n",
       "      <td>4375</td>\n",
       "      <td>3</td>\n",
       "      <td>1325</td>\n",
       "      <td>1625</td>\n",
       "      <td>6.0</td>\n",
       "      <td>4.0</td>\n",
       "      <td>3.0</td>\n",
       "      <td>446</td>\n",
       "      <td>789.0</td>\n",
       "    </tr>\n",
       "    <tr>\n",
       "      <th>18</th>\n",
       "      <td>1.0</td>\n",
       "      <td>2015-01-31 04:35:54</td>\n",
       "      <td>2015-01-31 05:47:30</td>\n",
       "      <td>2841</td>\n",
       "      <td>italian</td>\n",
       "      <td>1.0</td>\n",
       "      <td>2</td>\n",
       "      <td>3150</td>\n",
       "      <td>2</td>\n",
       "      <td>1425</td>\n",
       "      <td>1725</td>\n",
       "      <td>4.0</td>\n",
       "      <td>9.0</td>\n",
       "      <td>12.0</td>\n",
       "      <td>446</td>\n",
       "      <td>548.0</td>\n",
       "    </tr>\n",
       "    <tr>\n",
       "      <th>19</th>\n",
       "      <td>1.0</td>\n",
       "      <td>2015-01-31 02:21:23</td>\n",
       "      <td>2015-01-31 03:11:42</td>\n",
       "      <td>4139</td>\n",
       "      <td>mexican</td>\n",
       "      <td>1.0</td>\n",
       "      <td>2</td>\n",
       "      <td>950</td>\n",
       "      <td>2</td>\n",
       "      <td>150</td>\n",
       "      <td>700</td>\n",
       "      <td>24.0</td>\n",
       "      <td>24.0</td>\n",
       "      <td>26.0</td>\n",
       "      <td>446</td>\n",
       "      <td>212.0</td>\n",
       "    </tr>\n",
       "  </tbody>\n",
       "</table>\n",
       "</div>"
      ],
      "text/plain": [
       "    market_id           created_at actual_delivery_time  store_id  \\\n",
       "0         1.0  2015-02-06 22:24:17  2015-02-06 23:27:16      1845   \n",
       "1         2.0  2015-02-10 21:49:25  2015-02-10 22:56:29      5477   \n",
       "2         3.0  2015-01-22 20:39:28  2015-01-22 21:09:09      5477   \n",
       "3         3.0  2015-02-03 21:21:45  2015-02-03 22:13:00      5477   \n",
       "4         3.0  2015-02-15 02:40:36  2015-02-15 03:20:26      5477   \n",
       "5         3.0  2015-01-28 20:30:38  2015-01-28 21:08:58      5477   \n",
       "6         3.0  2015-01-31 02:16:36  2015-01-31 02:43:00      5477   \n",
       "7         3.0  2015-02-12 03:03:35  2015-02-12 03:36:20      5477   \n",
       "8         2.0  2015-02-16 00:11:35  2015-02-16 00:38:01      5477   \n",
       "9         3.0  2015-02-18 01:15:45  2015-02-18 02:08:57      5477   \n",
       "10        3.0  2015-02-02 19:22:53  2015-02-02 20:09:19      5477   \n",
       "11        3.0  2015-02-16 04:19:33  2015-02-16 06:34:00      5477   \n",
       "12        3.0  2015-02-07 01:34:31  2015-02-07 02:17:14      5477   \n",
       "13        3.0  2015-01-25 01:50:51  2015-01-25 02:28:53      5477   \n",
       "14        1.0  2015-02-12 03:36:46  2015-02-12 04:14:39      2841   \n",
       "15        1.0  2015-01-27 02:12:36  2015-01-27 03:02:24      2841   \n",
       "16        1.0  2015-02-06 00:42:42  2015-02-06 02:10:29      2841   \n",
       "17        1.0  2015-02-08 02:04:17  2015-02-08 03:27:13      2841   \n",
       "18        1.0  2015-01-31 04:35:54  2015-01-31 05:47:30      2841   \n",
       "19        1.0  2015-01-31 02:21:23  2015-01-31 03:11:42      4139   \n",
       "\n",
       "   store_primary_category  order_protocol  total_items  subtotal  \\\n",
       "0                american             1.0            4      3441   \n",
       "1                 mexican             2.0            1      1900   \n",
       "2                     NaN             1.0            1      1900   \n",
       "3                     NaN             1.0            6      6900   \n",
       "4                     NaN             1.0            3      3900   \n",
       "5                     NaN             1.0            3      5000   \n",
       "6                     NaN             1.0            2      3900   \n",
       "7                     NaN             1.0            4      4850   \n",
       "8                  indian             3.0            4      4771   \n",
       "9                     NaN             1.0            2      2100   \n",
       "10                    NaN             4.0            4      4300   \n",
       "11                    NaN             1.0            2      2200   \n",
       "12                    NaN             1.0            1      1900   \n",
       "13                    NaN             4.0            4      4986   \n",
       "14                italian             1.0            1      1525   \n",
       "15                italian             1.0            2      3620   \n",
       "16                italian             1.0            3      4475   \n",
       "17                italian             1.0            3      4375   \n",
       "18                italian             1.0            2      3150   \n",
       "19                mexican             1.0            2       950   \n",
       "\n",
       "    num_distinct_items  min_item_price  max_item_price  total_onshift  \\\n",
       "0                    4             557            1239           33.0   \n",
       "1                    1            1400            1400            1.0   \n",
       "2                    1            1900            1900            1.0   \n",
       "3                    5             600            1800            1.0   \n",
       "4                    3            1100            1600            6.0   \n",
       "5                    3            1500            1900            2.0   \n",
       "6                    2            1200            2700           10.0   \n",
       "7                    4             750            1800            7.0   \n",
       "8                    3             820            1604            8.0   \n",
       "9                    2             700            1200            2.0   \n",
       "10                   4            1200            1500            1.0   \n",
       "11                   2             600            1600            3.0   \n",
       "12                   1            1900            1900            6.0   \n",
       "13                   4             699            2362           16.0   \n",
       "14                   1            1525            1525            5.0   \n",
       "15                   2            1425            2195            5.0   \n",
       "16                   3             925            1825            4.0   \n",
       "17                   3            1325            1625            6.0   \n",
       "18                   2            1425            1725            4.0   \n",
       "19                   2             150             700           24.0   \n",
       "\n",
       "    total_busy  total_outstanding_orders  estimated_order_place_duration  \\\n",
       "0         14.0                      21.0                             446   \n",
       "1          2.0                       2.0                             446   \n",
       "2          0.0                       0.0                             446   \n",
       "3          1.0                       2.0                             446   \n",
       "4          6.0                       9.0                             446   \n",
       "5          2.0                       2.0                             446   \n",
       "6          9.0                       9.0                             446   \n",
       "7          8.0                       7.0                             446   \n",
       "8          6.0                      18.0                             446   \n",
       "9          2.0                       2.0                             446   \n",
       "10         1.0                       1.0                             446   \n",
       "11         3.0                       4.0                             446   \n",
       "12         3.0                       3.0                             446   \n",
       "13         6.0                       9.0                             446   \n",
       "14         6.0                       8.0                             446   \n",
       "15         5.0                       7.0                             446   \n",
       "16         1.0                       1.0                             446   \n",
       "17         4.0                       3.0                             446   \n",
       "18         9.0                      12.0                             446   \n",
       "19        24.0                      26.0                             446   \n",
       "\n",
       "    estimated_store_to_consumer_driving_duration  \n",
       "0                                          861.0  \n",
       "1                                          690.0  \n",
       "2                                          690.0  \n",
       "3                                          289.0  \n",
       "4                                          650.0  \n",
       "5                                          338.0  \n",
       "6                                          638.0  \n",
       "7                                          626.0  \n",
       "8                                          289.0  \n",
       "9                                          715.0  \n",
       "10                                         453.0  \n",
       "11                                         642.0  \n",
       "12                                         690.0  \n",
       "13                                         445.0  \n",
       "14                                         795.0  \n",
       "15                                         205.0  \n",
       "16                                         542.0  \n",
       "17                                         789.0  \n",
       "18                                         548.0  \n",
       "19                                         212.0  "
      ]
     },
     "execution_count": 2,
     "metadata": {},
     "output_type": "execute_result"
    }
   ],
   "source": [
    "delivery_df = pd.read_csv('delivery_raw.csv',sep='\\t')\n",
    "\n",
    "delivery_df.head(20)"
   ]
  },
  {
   "cell_type": "code",
   "execution_count": 3,
   "metadata": {},
   "outputs": [
    {
     "data": {
      "text/plain": [
       "market_id                                       float64\n",
       "created_at                                       object\n",
       "actual_delivery_time                             object\n",
       "store_id                                          int64\n",
       "store_primary_category                           object\n",
       "order_protocol                                  float64\n",
       "total_items                                       int64\n",
       "subtotal                                          int64\n",
       "num_distinct_items                                int64\n",
       "min_item_price                                    int64\n",
       "max_item_price                                    int64\n",
       "total_onshift                                   float64\n",
       "total_busy                                      float64\n",
       "total_outstanding_orders                        float64\n",
       "estimated_order_place_duration                    int64\n",
       "estimated_store_to_consumer_driving_duration    float64\n",
       "dtype: object"
      ]
     },
     "execution_count": 3,
     "metadata": {},
     "output_type": "execute_result"
    }
   ],
   "source": [
    "delivery_df.dtypes"
   ]
  },
  {
   "cell_type": "code",
   "execution_count": 4,
   "metadata": {},
   "outputs": [
    {
     "data": {
      "text/plain": [
       "market_id                                       196441\n",
       "created_at                                      197428\n",
       "actual_delivery_time                            197421\n",
       "store_id                                        197428\n",
       "store_primary_category                          192668\n",
       "order_protocol                                  196433\n",
       "total_items                                     197428\n",
       "subtotal                                        197428\n",
       "num_distinct_items                              197428\n",
       "min_item_price                                  197428\n",
       "max_item_price                                  197428\n",
       "total_onshift                                   181166\n",
       "total_busy                                      181166\n",
       "total_outstanding_orders                        181166\n",
       "estimated_order_place_duration                  197428\n",
       "estimated_store_to_consumer_driving_duration    196902\n",
       "dtype: int64"
      ]
     },
     "execution_count": 4,
     "metadata": {},
     "output_type": "execute_result"
    }
   ],
   "source": [
    "delivery_df.count()"
   ]
  },
  {
   "cell_type": "code",
   "execution_count": 5,
   "metadata": {},
   "outputs": [
    {
     "data": {
      "text/plain": [
       "market_id                                         987\n",
       "created_at                                          0\n",
       "actual_delivery_time                                7\n",
       "store_id                                            0\n",
       "store_primary_category                           4760\n",
       "order_protocol                                    995\n",
       "total_items                                         0\n",
       "subtotal                                            0\n",
       "num_distinct_items                                  0\n",
       "min_item_price                                      0\n",
       "max_item_price                                      0\n",
       "total_onshift                                   16262\n",
       "total_busy                                      16262\n",
       "total_outstanding_orders                        16262\n",
       "estimated_order_place_duration                      0\n",
       "estimated_store_to_consumer_driving_duration      526\n",
       "dtype: int64"
      ]
     },
     "execution_count": 5,
     "metadata": {},
     "output_type": "execute_result"
    }
   ],
   "source": [
    "delivery_df.isnull().sum()"
   ]
  },
  {
   "cell_type": "code",
   "execution_count": 6,
   "metadata": {},
   "outputs": [
    {
     "data": {
      "text/plain": [
       "market_id                                         987\n",
       "created_at                                          0\n",
       "actual_delivery_time                                0\n",
       "store_id                                            0\n",
       "store_primary_category                           4760\n",
       "order_protocol                                    995\n",
       "total_items                                         0\n",
       "subtotal                                            0\n",
       "num_distinct_items                                  0\n",
       "min_item_price                                      0\n",
       "max_item_price                                      0\n",
       "total_onshift                                   16262\n",
       "total_busy                                      16262\n",
       "total_outstanding_orders                        16262\n",
       "estimated_order_place_duration                      0\n",
       "estimated_store_to_consumer_driving_duration      526\n",
       "dtype: int64"
      ]
     },
     "execution_count": 6,
     "metadata": {},
     "output_type": "execute_result"
    }
   ],
   "source": [
    "# 실제 배달 시간을 알 수 없는 record drop\n",
    "delivery_df.dropna(subset=['actual_delivery_time'],inplace=True)\n",
    "\n",
    "delivery_df.isnull().sum()"
   ]
  },
  {
   "cell_type": "code",
   "execution_count": 7,
   "metadata": {},
   "outputs": [],
   "source": [
    "delivery_df['created_at'] = pd.to_datetime(delivery_df['created_at'])\n",
    "delivery_df['actual_delivery_time'] = pd.to_datetime(delivery_df['actual_delivery_time'])\n"
   ]
  },
  {
   "cell_type": "code",
   "execution_count": 8,
   "metadata": {},
   "outputs": [],
   "source": [
    "# 배달 시간 column 추가\n",
    "\n",
    "delivery_df['real_delivery_time'] = delivery_df['actual_delivery_time'] - delivery_df['created_at']\n"
   ]
  },
  {
   "cell_type": "code",
   "execution_count": 9,
   "metadata": {},
   "outputs": [
    {
     "data": {
      "text/plain": [
       "0   0 days 01:02:59\n",
       "1   0 days 01:07:04\n",
       "2   0 days 00:29:41\n",
       "3   0 days 00:51:15\n",
       "4   0 days 00:39:50\n",
       "Name: real_delivery_time, dtype: timedelta64[ns]"
      ]
     },
     "execution_count": 9,
     "metadata": {},
     "output_type": "execute_result"
    }
   ],
   "source": [
    "delivery_df['real_delivery_time'].head(5)"
   ]
  },
  {
   "cell_type": "code",
   "execution_count": 10,
   "metadata": {},
   "outputs": [
    {
     "data": {
      "text/plain": [
       "0    3779.0\n",
       "1    4024.0\n",
       "2    1781.0\n",
       "3    3075.0\n",
       "4    2390.0\n",
       "Name: real_delivery_time, dtype: float64"
      ]
     },
     "execution_count": 10,
     "metadata": {},
     "output_type": "execute_result"
    }
   ],
   "source": [
    "# 단위 맞추기\n",
    "delivery_df['real_delivery_time'] = delivery_df['real_delivery_time'].dt.total_seconds()\n",
    "\n",
    "delivery_df['real_delivery_time'].head(5)"
   ]
  },
  {
   "cell_type": "code",
   "execution_count": 11,
   "metadata": {},
   "outputs": [
    {
     "data": {
      "image/png": "[encoded data removed]",
      "text/plain": [
       "<Figure size 1800x1440 with 16 Axes>"
      ]
     },
     "metadata": {
      "needs_background": "light"
     },
     "output_type": "display_data"
    }
   ],
   "source": [
    "delivery_df.hist(bins = 100 ,figsize=(25,20))\n",
    "plt.show()"
   ]
  },
  {
   "cell_type": "code",
   "execution_count": 12,
   "metadata": {},
   "outputs": [
    {
     "data": {
      "image/png": "[encoded data removed]",
      "text/plain": [
       "<Figure size 1800x1440 with 2 Axes>"
      ]
     },
     "metadata": {
      "needs_background": "light"
     },
     "output_type": "display_data"
    }
   ],
   "source": [
    "plt.figure(figsize=(25,20))\n",
    "sns.heatmap(delivery_df.corr(), annot = True, cmap='RdYlGn_r')\n",
    "plt.show()"
   ]
  },
  {
   "cell_type": "code",
   "execution_count": 13,
   "metadata": {},
   "outputs": [
    {
     "data": {
      "text/plain": [
       "2.0    55055\n",
       "4.0    47597\n",
       "1.0    38037\n",
       "3.0    23296\n",
       "5.0    17999\n",
       "6.0    14450\n",
       "Name: market_id, dtype: int64"
      ]
     },
     "execution_count": 13,
     "metadata": {},
     "output_type": "execute_result"
    }
   ],
   "source": [
    "delivery_df['market_id'].value_counts()"
   ]
  },
  {
   "cell_type": "code",
   "execution_count": 14,
   "metadata": {},
   "outputs": [
    {
     "data": {
      "text/plain": [
       "american             19399\n",
       "pizza                17320\n",
       "mexican              17098\n",
       "burger               10958\n",
       "sandwich             10059\n",
       "                     ...  \n",
       "lebanese                 9\n",
       "belgian                  2\n",
       "indonesian               2\n",
       "chocolate                1\n",
       "alcohol-plus-food        1\n",
       "Name: store_primary_category, Length: 74, dtype: int64"
      ]
     },
     "execution_count": 14,
     "metadata": {},
     "output_type": "execute_result"
    }
   ],
   "source": [
    "delivery_df['store_primary_category'].value_counts()"
   ]
  },
  {
   "cell_type": "code",
   "execution_count": 15,
   "metadata": {},
   "outputs": [
    {
     "data": {
      "text/plain": [
       "0         american\n",
       "1          mexican\n",
       "2            other\n",
       "3            other\n",
       "4            other\n",
       "            ...   \n",
       "197423        fast\n",
       "197424        fast\n",
       "197425        fast\n",
       "197426    sandwich\n",
       "197427    sandwich\n",
       "Name: store_primary_category, Length: 197421, dtype: object"
      ]
     },
     "execution_count": 15,
     "metadata": {},
     "output_type": "execute_result"
    }
   ],
   "source": [
    "delivery_df['store_primary_category'].fillna('other', inplace=True)\n",
    "delivery_df['store_primary_category'].astype('str')"
   ]
  },
  {
   "cell_type": "code",
   "execution_count": 16,
   "metadata": {},
   "outputs": [
    {
     "data": {
      "text/plain": [
       "1.0    54723\n",
       "3.0    53197\n",
       "5.0    44289\n",
       "2.0    24051\n",
       "4.0    19353\n",
       "6.0      794\n",
       "7.0       19\n",
       "Name: order_protocol, dtype: int64"
      ]
     },
     "execution_count": 16,
     "metadata": {},
     "output_type": "execute_result"
    }
   ],
   "source": [
    "delivery_df['order_protocol'].value_counts()"
   ]
  },
  {
   "cell_type": "code",
   "execution_count": 17,
   "metadata": {},
   "outputs": [],
   "source": [
    "# 최빈값으로 fillna\n",
    "most_freq = delivery_df['order_protocol'].value_counts().idxmax()\n",
    "delivery_df['order_protocol'].fillna(most_freq, inplace=True)"
   ]
  },
  {
   "cell_type": "code",
   "execution_count": 18,
   "metadata": {},
   "outputs": [
    {
     "data": {
      "text/plain": [
       " 0.0      3615\n",
       " 18.0     2924\n",
       " 15.0     2912\n",
       " 21.0     2841\n",
       " 19.0     2824\n",
       "          ... \n",
       " 164.0       1\n",
       " 159.0       1\n",
       " 169.0       1\n",
       "-4.0         1\n",
       " 168.0       1\n",
       "Name: total_onshift, Length: 172, dtype: int64"
      ]
     },
     "execution_count": 18,
     "metadata": {},
     "output_type": "execute_result"
    }
   ],
   "source": [
    "delivery_df['total_onshift'].value_counts()"
   ]
  },
  {
   "cell_type": "code",
   "execution_count": 19,
   "metadata": {},
   "outputs": [
    {
     "data": {
      "text/plain": [
       "21"
      ]
     },
     "execution_count": 19,
     "metadata": {},
     "output_type": "execute_result"
    }
   ],
   "source": [
    "delivery_df[delivery_df['total_onshift']<0]['total_onshift'].count()"
   ]
  },
  {
   "cell_type": "code",
   "execution_count": 20,
   "metadata": {},
   "outputs": [
    {
     "name": "stderr",
     "output_type": "stream",
     "text": [
      "C:\\Users\\User\\AppData\\Local\\Temp/ipykernel_12048/2597266965.py:2: SettingWithCopyWarning: \n",
      "A value is trying to be set on a copy of a slice from a DataFrame\n",
      "\n",
      "See the caveats in the documentation: https://pandas.pydata.org/pandas-docs/stable/user_guide/indexing.html#returning-a-view-versus-a-copy\n",
      "  delivery_df['total_onshift'][delivery_df['total_onshift']<0] = 0\n"
     ]
    }
   ],
   "source": [
    "# 배달원의 수가 음수일 수는 없으므로 \n",
    "delivery_df['total_onshift'][delivery_df['total_onshift']<0] = 0"
   ]
  },
  {
   "cell_type": "code",
   "execution_count": 21,
   "metadata": {},
   "outputs": [
    {
     "data": {
      "text/plain": [
       "21"
      ]
     },
     "execution_count": 21,
     "metadata": {},
     "output_type": "execute_result"
    }
   ],
   "source": [
    "delivery_df[delivery_df['total_busy']<0]['total_busy'].count()"
   ]
  },
  {
   "cell_type": "code",
   "execution_count": 22,
   "metadata": {},
   "outputs": [
    {
     "data": {
      "text/plain": [
       "44"
      ]
     },
     "execution_count": 22,
     "metadata": {},
     "output_type": "execute_result"
    }
   ],
   "source": [
    "delivery_df[delivery_df['total_outstanding_orders']<0]['total_outstanding_orders'].count()"
   ]
  },
  {
   "cell_type": "code",
   "execution_count": 23,
   "metadata": {},
   "outputs": [
    {
     "name": "stderr",
     "output_type": "stream",
     "text": [
      "C:\\Users\\User\\AppData\\Local\\Temp/ipykernel_12048/680098971.py:2: SettingWithCopyWarning: \n",
      "A value is trying to be set on a copy of a slice from a DataFrame\n",
      "\n",
      "See the caveats in the documentation: https://pandas.pydata.org/pandas-docs/stable/user_guide/indexing.html#returning-a-view-versus-a-copy\n",
      "  delivery_df['total_busy'][delivery_df['total_busy']<0] = 0\n",
      "C:\\Users\\User\\AppData\\Local\\Temp/ipykernel_12048/680098971.py:3: SettingWithCopyWarning: \n",
      "A value is trying to be set on a copy of a slice from a DataFrame\n",
      "\n",
      "See the caveats in the documentation: https://pandas.pydata.org/pandas-docs/stable/user_guide/indexing.html#returning-a-view-versus-a-copy\n",
      "  delivery_df['total_outstanding_orders'][delivery_df['total_outstanding_orders']<0] = 0\n"
     ]
    }
   ],
   "source": [
    "# 마찬가지로 사람의 수가 음수일 수는 없으므로 0으로 처리\n",
    "delivery_df['total_busy'][delivery_df['total_busy']<0] = 0\n",
    "delivery_df['total_outstanding_orders'][delivery_df['total_outstanding_orders']<0] = 0"
   ]
  },
  {
   "cell_type": "code",
   "execution_count": 24,
   "metadata": {},
   "outputs": [
    {
     "data": {
      "text/html": [
       "<div>\n",
       "<style scoped>\n",
       "    .dataframe tbody tr th:only-of-type {\n",
       "        vertical-align: middle;\n",
       "    }\n",
       "\n",
       "    .dataframe tbody tr th {\n",
       "        vertical-align: top;\n",
       "    }\n",
       "\n",
       "    .dataframe thead th {\n",
       "        text-align: right;\n",
       "    }\n",
       "</style>\n",
       "<table border=\"1\" class=\"dataframe\">\n",
       "  <thead>\n",
       "    <tr style=\"text-align: right;\">\n",
       "      <th></th>\n",
       "      <th>total_onshift</th>\n",
       "    </tr>\n",
       "    <tr>\n",
       "      <th>market_id</th>\n",
       "      <th></th>\n",
       "    </tr>\n",
       "  </thead>\n",
       "  <tbody>\n",
       "    <tr>\n",
       "      <th>1.0</th>\n",
       "      <td>19.0</td>\n",
       "    </tr>\n",
       "    <tr>\n",
       "      <th>2.0</th>\n",
       "      <td>55.0</td>\n",
       "    </tr>\n",
       "    <tr>\n",
       "      <th>3.0</th>\n",
       "      <td>15.0</td>\n",
       "    </tr>\n",
       "    <tr>\n",
       "      <th>4.0</th>\n",
       "      <td>60.0</td>\n",
       "    </tr>\n",
       "    <tr>\n",
       "      <th>5.0</th>\n",
       "      <td>20.0</td>\n",
       "    </tr>\n",
       "    <tr>\n",
       "      <th>6.0</th>\n",
       "      <td>36.0</td>\n",
       "    </tr>\n",
       "  </tbody>\n",
       "</table>\n",
       "</div>"
      ],
      "text/plain": [
       "           total_onshift\n",
       "market_id               \n",
       "1.0                 19.0\n",
       "2.0                 55.0\n",
       "3.0                 15.0\n",
       "4.0                 60.0\n",
       "5.0                 20.0\n",
       "6.0                 36.0"
      ]
     },
     "execution_count": 24,
     "metadata": {},
     "output_type": "execute_result"
    }
   ],
   "source": [
    "delivery_df[['market_id','total_onshift']].groupby(['market_id']).median()"
   ]
  },
  {
   "cell_type": "code",
   "execution_count": 25,
   "metadata": {},
   "outputs": [
    {
     "name": "stderr",
     "output_type": "stream",
     "text": [
      "C:\\Users\\User\\AppData\\Local\\Temp/ipykernel_12048/1623100256.py:1: SettingWithCopyWarning: \n",
      "A value is trying to be set on a copy of a slice from a DataFrame\n",
      "\n",
      "See the caveats in the documentation: https://pandas.pydata.org/pandas-docs/stable/user_guide/indexing.html#returning-a-view-versus-a-copy\n",
      "  delivery_df['total_onshift'][(delivery_df['market_id'] == 1.0) & (delivery_df['total_onshift'].isna())] = 19.0\n",
      "C:\\Users\\User\\AppData\\Local\\Temp/ipykernel_12048/1623100256.py:2: SettingWithCopyWarning: \n",
      "A value is trying to be set on a copy of a slice from a DataFrame\n",
      "\n",
      "See the caveats in the documentation: https://pandas.pydata.org/pandas-docs/stable/user_guide/indexing.html#returning-a-view-versus-a-copy\n",
      "  delivery_df['total_onshift'][(delivery_df['market_id'] == 2.0) & (delivery_df['total_onshift'].isna())] = 55.0\n",
      "C:\\Users\\User\\AppData\\Local\\Temp/ipykernel_12048/1623100256.py:3: SettingWithCopyWarning: \n",
      "A value is trying to be set on a copy of a slice from a DataFrame\n",
      "\n",
      "See the caveats in the documentation: https://pandas.pydata.org/pandas-docs/stable/user_guide/indexing.html#returning-a-view-versus-a-copy\n",
      "  delivery_df['total_onshift'][(delivery_df['market_id'] == 3.0) & (delivery_df['total_onshift'].isna())] = 15.0\n",
      "C:\\Users\\User\\AppData\\Local\\Temp/ipykernel_12048/1623100256.py:4: SettingWithCopyWarning: \n",
      "A value is trying to be set on a copy of a slice from a DataFrame\n",
      "\n",
      "See the caveats in the documentation: https://pandas.pydata.org/pandas-docs/stable/user_guide/indexing.html#returning-a-view-versus-a-copy\n",
      "  delivery_df['total_onshift'][(delivery_df['market_id'] == 4.0) & (delivery_df['total_onshift'].isna())] = 60.0\n",
      "C:\\Users\\User\\AppData\\Local\\Temp/ipykernel_12048/1623100256.py:5: SettingWithCopyWarning: \n",
      "A value is trying to be set on a copy of a slice from a DataFrame\n",
      "\n",
      "See the caveats in the documentation: https://pandas.pydata.org/pandas-docs/stable/user_guide/indexing.html#returning-a-view-versus-a-copy\n",
      "  delivery_df['total_onshift'][(delivery_df['market_id'] == 5.0) & (delivery_df['total_onshift'].isna())] = 20.0\n",
      "C:\\Users\\User\\AppData\\Local\\Temp/ipykernel_12048/1623100256.py:6: SettingWithCopyWarning: \n",
      "A value is trying to be set on a copy of a slice from a DataFrame\n",
      "\n",
      "See the caveats in the documentation: https://pandas.pydata.org/pandas-docs/stable/user_guide/indexing.html#returning-a-view-versus-a-copy\n",
      "  delivery_df['total_onshift'][(delivery_df['market_id'] == 6.0) & (delivery_df['total_onshift'].isna())] = 36.0\n"
     ]
    }
   ],
   "source": [
    "delivery_df['total_onshift'][(delivery_df['market_id'] == 1.0) & (delivery_df['total_onshift'].isna())] = 19.0\n",
    "delivery_df['total_onshift'][(delivery_df['market_id'] == 2.0) & (delivery_df['total_onshift'].isna())] = 55.0\n",
    "delivery_df['total_onshift'][(delivery_df['market_id'] == 3.0) & (delivery_df['total_onshift'].isna())] = 15.0\n",
    "delivery_df['total_onshift'][(delivery_df['market_id'] == 4.0) & (delivery_df['total_onshift'].isna())] = 60.0\n",
    "delivery_df['total_onshift'][(delivery_df['market_id'] == 5.0) & (delivery_df['total_onshift'].isna())] = 20.0\n",
    "delivery_df['total_onshift'][(delivery_df['market_id'] == 6.0) & (delivery_df['total_onshift'].isna())] = 36.0"
   ]
  },
  {
   "cell_type": "code",
   "execution_count": 26,
   "metadata": {},
   "outputs": [
    {
     "data": {
      "text/html": [
       "<div>\n",
       "<style scoped>\n",
       "    .dataframe tbody tr th:only-of-type {\n",
       "        vertical-align: middle;\n",
       "    }\n",
       "\n",
       "    .dataframe tbody tr th {\n",
       "        vertical-align: top;\n",
       "    }\n",
       "\n",
       "    .dataframe thead th {\n",
       "        text-align: right;\n",
       "    }\n",
       "</style>\n",
       "<table border=\"1\" class=\"dataframe\">\n",
       "  <thead>\n",
       "    <tr style=\"text-align: right;\">\n",
       "      <th></th>\n",
       "      <th>total_busy</th>\n",
       "    </tr>\n",
       "    <tr>\n",
       "      <th>market_id</th>\n",
       "      <th></th>\n",
       "    </tr>\n",
       "  </thead>\n",
       "  <tbody>\n",
       "    <tr>\n",
       "      <th>1.0</th>\n",
       "      <td>18.0</td>\n",
       "    </tr>\n",
       "    <tr>\n",
       "      <th>2.0</th>\n",
       "      <td>53.0</td>\n",
       "    </tr>\n",
       "    <tr>\n",
       "      <th>3.0</th>\n",
       "      <td>13.0</td>\n",
       "    </tr>\n",
       "    <tr>\n",
       "      <th>4.0</th>\n",
       "      <td>57.0</td>\n",
       "    </tr>\n",
       "    <tr>\n",
       "      <th>5.0</th>\n",
       "      <td>16.0</td>\n",
       "    </tr>\n",
       "    <tr>\n",
       "      <th>6.0</th>\n",
       "      <td>35.0</td>\n",
       "    </tr>\n",
       "  </tbody>\n",
       "</table>\n",
       "</div>"
      ],
      "text/plain": [
       "           total_busy\n",
       "market_id            \n",
       "1.0              18.0\n",
       "2.0              53.0\n",
       "3.0              13.0\n",
       "4.0              57.0\n",
       "5.0              16.0\n",
       "6.0              35.0"
      ]
     },
     "execution_count": 26,
     "metadata": {},
     "output_type": "execute_result"
    }
   ],
   "source": [
    "delivery_df[['market_id','total_busy']].groupby(['market_id']).median()"
   ]
  },
  {
   "cell_type": "code",
   "execution_count": 27,
   "metadata": {},
   "outputs": [
    {
     "name": "stderr",
     "output_type": "stream",
     "text": [
      "C:\\Users\\User\\AppData\\Local\\Temp/ipykernel_12048/296702648.py:1: SettingWithCopyWarning: \n",
      "A value is trying to be set on a copy of a slice from a DataFrame\n",
      "\n",
      "See the caveats in the documentation: https://pandas.pydata.org/pandas-docs/stable/user_guide/indexing.html#returning-a-view-versus-a-copy\n",
      "  delivery_df['total_busy'][(delivery_df['market_id'] == 1.0) & (delivery_df['total_busy'].isna())] = 18.0\n",
      "C:\\Users\\User\\AppData\\Local\\Temp/ipykernel_12048/296702648.py:2: SettingWithCopyWarning: \n",
      "A value is trying to be set on a copy of a slice from a DataFrame\n",
      "\n",
      "See the caveats in the documentation: https://pandas.pydata.org/pandas-docs/stable/user_guide/indexing.html#returning-a-view-versus-a-copy\n",
      "  delivery_df['total_busy'][(delivery_df['market_id'] == 2.0) & (delivery_df['total_busy'].isna())] = 53.0\n",
      "C:\\Users\\User\\AppData\\Local\\Temp/ipykernel_12048/296702648.py:3: SettingWithCopyWarning: \n",
      "A value is trying to be set on a copy of a slice from a DataFrame\n",
      "\n",
      "See the caveats in the documentation: https://pandas.pydata.org/pandas-docs/stable/user_guide/indexing.html#returning-a-view-versus-a-copy\n",
      "  delivery_df['total_busy'][(delivery_df['market_id'] == 3.0) & (delivery_df['total_busy'].isna())] = 13.0\n",
      "C:\\Users\\User\\AppData\\Local\\Temp/ipykernel_12048/296702648.py:4: SettingWithCopyWarning: \n",
      "A value is trying to be set on a copy of a slice from a DataFrame\n",
      "\n",
      "See the caveats in the documentation: https://pandas.pydata.org/pandas-docs/stable/user_guide/indexing.html#returning-a-view-versus-a-copy\n",
      "  delivery_df['total_busy'][(delivery_df['market_id'] == 4.0) & (delivery_df['total_busy'].isna())] = 57.0\n",
      "C:\\Users\\User\\AppData\\Local\\Temp/ipykernel_12048/296702648.py:5: SettingWithCopyWarning: \n",
      "A value is trying to be set on a copy of a slice from a DataFrame\n",
      "\n",
      "See the caveats in the documentation: https://pandas.pydata.org/pandas-docs/stable/user_guide/indexing.html#returning-a-view-versus-a-copy\n",
      "  delivery_df['total_busy'][(delivery_df['market_id'] == 5.0) & (delivery_df['total_busy'].isna())] = 16.0\n",
      "C:\\Users\\User\\AppData\\Local\\Temp/ipykernel_12048/296702648.py:6: SettingWithCopyWarning: \n",
      "A value is trying to be set on a copy of a slice from a DataFrame\n",
      "\n",
      "See the caveats in the documentation: https://pandas.pydata.org/pandas-docs/stable/user_guide/indexing.html#returning-a-view-versus-a-copy\n",
      "  delivery_df['total_busy'][(delivery_df['market_id'] == 6.0) & (delivery_df['total_busy'].isna())] = 35.0\n"
     ]
    }
   ],
   "source": [
    "delivery_df['total_busy'][(delivery_df['market_id'] == 1.0) & (delivery_df['total_busy'].isna())] = 18.0\n",
    "delivery_df['total_busy'][(delivery_df['market_id'] == 2.0) & (delivery_df['total_busy'].isna())] = 53.0\n",
    "delivery_df['total_busy'][(delivery_df['market_id'] == 3.0) & (delivery_df['total_busy'].isna())] = 13.0\n",
    "delivery_df['total_busy'][(delivery_df['market_id'] == 4.0) & (delivery_df['total_busy'].isna())] = 57.0\n",
    "delivery_df['total_busy'][(delivery_df['market_id'] == 5.0) & (delivery_df['total_busy'].isna())] = 16.0\n",
    "delivery_df['total_busy'][(delivery_df['market_id'] == 6.0) & (delivery_df['total_busy'].isna())] = 35.0"
   ]
  },
  {
   "cell_type": "code",
   "execution_count": 28,
   "metadata": {},
   "outputs": [
    {
     "data": {
      "text/html": [
       "<div>\n",
       "<style scoped>\n",
       "    .dataframe tbody tr th:only-of-type {\n",
       "        vertical-align: middle;\n",
       "    }\n",
       "\n",
       "    .dataframe tbody tr th {\n",
       "        vertical-align: top;\n",
       "    }\n",
       "\n",
       "    .dataframe thead th {\n",
       "        text-align: right;\n",
       "    }\n",
       "</style>\n",
       "<table border=\"1\" class=\"dataframe\">\n",
       "  <thead>\n",
       "    <tr style=\"text-align: right;\">\n",
       "      <th></th>\n",
       "      <th>total_outstanding_orders</th>\n",
       "    </tr>\n",
       "    <tr>\n",
       "      <th>market_id</th>\n",
       "      <th></th>\n",
       "    </tr>\n",
       "  </thead>\n",
       "  <tbody>\n",
       "    <tr>\n",
       "      <th>1.0</th>\n",
       "      <td>22.0</td>\n",
       "    </tr>\n",
       "    <tr>\n",
       "      <th>2.0</th>\n",
       "      <td>69.0</td>\n",
       "    </tr>\n",
       "    <tr>\n",
       "      <th>3.0</th>\n",
       "      <td>14.0</td>\n",
       "    </tr>\n",
       "    <tr>\n",
       "      <th>4.0</th>\n",
       "      <td>74.0</td>\n",
       "    </tr>\n",
       "    <tr>\n",
       "      <th>5.0</th>\n",
       "      <td>20.0</td>\n",
       "    </tr>\n",
       "    <tr>\n",
       "      <th>6.0</th>\n",
       "      <td>43.0</td>\n",
       "    </tr>\n",
       "  </tbody>\n",
       "</table>\n",
       "</div>"
      ],
      "text/plain": [
       "           total_outstanding_orders\n",
       "market_id                          \n",
       "1.0                            22.0\n",
       "2.0                            69.0\n",
       "3.0                            14.0\n",
       "4.0                            74.0\n",
       "5.0                            20.0\n",
       "6.0                            43.0"
      ]
     },
     "execution_count": 28,
     "metadata": {},
     "output_type": "execute_result"
    }
   ],
   "source": [
    "delivery_df[['market_id','total_outstanding_orders']].groupby(['market_id']).median()"
   ]
  },
  {
   "cell_type": "code",
   "execution_count": 29,
   "metadata": {},
   "outputs": [
    {
     "name": "stderr",
     "output_type": "stream",
     "text": [
      "C:\\Users\\User\\AppData\\Local\\Temp/ipykernel_12048/3706515447.py:1: SettingWithCopyWarning: \n",
      "A value is trying to be set on a copy of a slice from a DataFrame\n",
      "\n",
      "See the caveats in the documentation: https://pandas.pydata.org/pandas-docs/stable/user_guide/indexing.html#returning-a-view-versus-a-copy\n",
      "  delivery_df['total_outstanding_orders'][(delivery_df['market_id'] == 1.0) & (delivery_df['total_outstanding_orders'].isna())] = 22.0\n",
      "C:\\Users\\User\\AppData\\Local\\Temp/ipykernel_12048/3706515447.py:2: SettingWithCopyWarning: \n",
      "A value is trying to be set on a copy of a slice from a DataFrame\n",
      "\n",
      "See the caveats in the documentation: https://pandas.pydata.org/pandas-docs/stable/user_guide/indexing.html#returning-a-view-versus-a-copy\n",
      "  delivery_df['total_outstanding_orders'][(delivery_df['market_id'] == 2.0) & (delivery_df['total_outstanding_orders'].isna())] = 69.0\n",
      "C:\\Users\\User\\AppData\\Local\\Temp/ipykernel_12048/3706515447.py:3: SettingWithCopyWarning: \n",
      "A value is trying to be set on a copy of a slice from a DataFrame\n",
      "\n",
      "See the caveats in the documentation: https://pandas.pydata.org/pandas-docs/stable/user_guide/indexing.html#returning-a-view-versus-a-copy\n",
      "  delivery_df['total_outstanding_orders'][(delivery_df['market_id'] == 3.0) & (delivery_df['total_outstanding_orders'].isna())] = 14.0\n",
      "C:\\Users\\User\\AppData\\Local\\Temp/ipykernel_12048/3706515447.py:4: SettingWithCopyWarning: \n",
      "A value is trying to be set on a copy of a slice from a DataFrame\n",
      "\n",
      "See the caveats in the documentation: https://pandas.pydata.org/pandas-docs/stable/user_guide/indexing.html#returning-a-view-versus-a-copy\n",
      "  delivery_df['total_outstanding_orders'][(delivery_df['market_id'] == 4.0) & (delivery_df['total_outstanding_orders'].isna())] = 74.0\n",
      "C:\\Users\\User\\AppData\\Local\\Temp/ipykernel_12048/3706515447.py:5: SettingWithCopyWarning: \n",
      "A value is trying to be set on a copy of a slice from a DataFrame\n",
      "\n",
      "See the caveats in the documentation: https://pandas.pydata.org/pandas-docs/stable/user_guide/indexing.html#returning-a-view-versus-a-copy\n",
      "  delivery_df['total_outstanding_orders'][(delivery_df['market_id'] == 5.0) & (delivery_df['total_outstanding_orders'].isna())] = 20.0\n",
      "C:\\Users\\User\\AppData\\Local\\Temp/ipykernel_12048/3706515447.py:6: SettingWithCopyWarning: \n",
      "A value is trying to be set on a copy of a slice from a DataFrame\n",
      "\n",
      "See the caveats in the documentation: https://pandas.pydata.org/pandas-docs/stable/user_guide/indexing.html#returning-a-view-versus-a-copy\n",
      "  delivery_df['total_outstanding_orders'][(delivery_df['market_id'] == 6.0) & (delivery_df['total_outstanding_orders'].isna())] = 43.0\n"
     ]
    }
   ],
   "source": [
    "delivery_df['total_outstanding_orders'][(delivery_df['market_id'] == 1.0) & (delivery_df['total_outstanding_orders'].isna())] = 22.0\n",
    "delivery_df['total_outstanding_orders'][(delivery_df['market_id'] == 2.0) & (delivery_df['total_outstanding_orders'].isna())] = 69.0\n",
    "delivery_df['total_outstanding_orders'][(delivery_df['market_id'] == 3.0) & (delivery_df['total_outstanding_orders'].isna())] = 14.0\n",
    "delivery_df['total_outstanding_orders'][(delivery_df['market_id'] == 4.0) & (delivery_df['total_outstanding_orders'].isna())] = 74.0\n",
    "delivery_df['total_outstanding_orders'][(delivery_df['market_id'] == 5.0) & (delivery_df['total_outstanding_orders'].isna())] = 20.0\n",
    "delivery_df['total_outstanding_orders'][(delivery_df['market_id'] == 6.0) & (delivery_df['total_outstanding_orders'].isna())] = 43.0"
   ]
  },
  {
   "cell_type": "code",
   "execution_count": 30,
   "metadata": {},
   "outputs": [],
   "source": [
    "# market_id의 nan값은 위의 값으로 대체한다.\n",
    "delivery_df['market_id'].fillna(method='ffill', inplace=True)"
   ]
  },
  {
   "cell_type": "code",
   "execution_count": 31,
   "metadata": {},
   "outputs": [],
   "source": [
    "delivery_df.dropna(inplace=True)"
   ]
  },
  {
   "cell_type": "code",
   "execution_count": 32,
   "metadata": {},
   "outputs": [
    {
     "data": {
      "text/html": [
       "<div>\n",
       "<style scoped>\n",
       "    .dataframe tbody tr th:only-of-type {\n",
       "        vertical-align: middle;\n",
       "    }\n",
       "\n",
       "    .dataframe tbody tr th {\n",
       "        vertical-align: top;\n",
       "    }\n",
       "\n",
       "    .dataframe thead th {\n",
       "        text-align: right;\n",
       "    }\n",
       "</style>\n",
       "<table border=\"1\" class=\"dataframe\">\n",
       "  <thead>\n",
       "    <tr style=\"text-align: right;\">\n",
       "      <th></th>\n",
       "      <th>market_id</th>\n",
       "      <th>store_id</th>\n",
       "      <th>order_protocol</th>\n",
       "      <th>total_items</th>\n",
       "      <th>subtotal</th>\n",
       "      <th>num_distinct_items</th>\n",
       "      <th>min_item_price</th>\n",
       "      <th>max_item_price</th>\n",
       "      <th>total_onshift</th>\n",
       "      <th>total_busy</th>\n",
       "      <th>total_outstanding_orders</th>\n",
       "      <th>estimated_order_place_duration</th>\n",
       "      <th>estimated_store_to_consumer_driving_duration</th>\n",
       "      <th>real_delivery_time</th>\n",
       "    </tr>\n",
       "  </thead>\n",
       "  <tbody>\n",
       "    <tr>\n",
       "      <th>count</th>\n",
       "      <td>196827.000000</td>\n",
       "      <td>196827.000000</td>\n",
       "      <td>196827.000000</td>\n",
       "      <td>196827.000000</td>\n",
       "      <td>196827.000000</td>\n",
       "      <td>196827.000000</td>\n",
       "      <td>196827.000000</td>\n",
       "      <td>196827.000000</td>\n",
       "      <td>196827.000000</td>\n",
       "      <td>196827.000000</td>\n",
       "      <td>196827.000000</td>\n",
       "      <td>196827.000000</td>\n",
       "      <td>196827.000000</td>\n",
       "      <td>1.968270e+05</td>\n",
       "    </tr>\n",
       "    <tr>\n",
       "      <th>mean</th>\n",
       "      <td>2.977706</td>\n",
       "      <td>3530.348905</td>\n",
       "      <td>2.873356</td>\n",
       "      <td>3.196889</td>\n",
       "      <td>2682.935720</td>\n",
       "      <td>2.671300</td>\n",
       "      <td>686.238849</td>\n",
       "      <td>1159.853074</td>\n",
       "      <td>43.952293</td>\n",
       "      <td>41.043114</td>\n",
       "      <td>56.635335</td>\n",
       "      <td>308.582374</td>\n",
       "      <td>545.365748</td>\n",
       "      <td>2.908976e+03</td>\n",
       "    </tr>\n",
       "    <tr>\n",
       "      <th>std</th>\n",
       "      <td>1.524205</td>\n",
       "      <td>2053.512892</td>\n",
       "      <td>1.506043</td>\n",
       "      <td>2.667076</td>\n",
       "      <td>1822.639727</td>\n",
       "      <td>1.630412</td>\n",
       "      <td>522.015162</td>\n",
       "      <td>558.436427</td>\n",
       "      <td>33.294122</td>\n",
       "      <td>30.985130</td>\n",
       "      <td>50.791870</td>\n",
       "      <td>90.153111</td>\n",
       "      <td>219.337837</td>\n",
       "      <td>1.925853e+04</td>\n",
       "    </tr>\n",
       "    <tr>\n",
       "      <th>min</th>\n",
       "      <td>1.000000</td>\n",
       "      <td>1.000000</td>\n",
       "      <td>1.000000</td>\n",
       "      <td>1.000000</td>\n",
       "      <td>0.000000</td>\n",
       "      <td>1.000000</td>\n",
       "      <td>-86.000000</td>\n",
       "      <td>0.000000</td>\n",
       "      <td>0.000000</td>\n",
       "      <td>0.000000</td>\n",
       "      <td>0.000000</td>\n",
       "      <td>0.000000</td>\n",
       "      <td>0.000000</td>\n",
       "      <td>1.010000e+02</td>\n",
       "    </tr>\n",
       "    <tr>\n",
       "      <th>25%</th>\n",
       "      <td>2.000000</td>\n",
       "      <td>1686.000000</td>\n",
       "      <td>1.000000</td>\n",
       "      <td>2.000000</td>\n",
       "      <td>1400.000000</td>\n",
       "      <td>1.000000</td>\n",
       "      <td>299.000000</td>\n",
       "      <td>800.000000</td>\n",
       "      <td>18.000000</td>\n",
       "      <td>16.000000</td>\n",
       "      <td>18.000000</td>\n",
       "      <td>251.000000</td>\n",
       "      <td>382.000000</td>\n",
       "      <td>2.104000e+03</td>\n",
       "    </tr>\n",
       "    <tr>\n",
       "      <th>50%</th>\n",
       "      <td>3.000000</td>\n",
       "      <td>3592.000000</td>\n",
       "      <td>3.000000</td>\n",
       "      <td>3.000000</td>\n",
       "      <td>2200.000000</td>\n",
       "      <td>2.000000</td>\n",
       "      <td>595.000000</td>\n",
       "      <td>1095.000000</td>\n",
       "      <td>36.000000</td>\n",
       "      <td>35.000000</td>\n",
       "      <td>43.000000</td>\n",
       "      <td>251.000000</td>\n",
       "      <td>544.000000</td>\n",
       "      <td>2.661000e+03</td>\n",
       "    </tr>\n",
       "    <tr>\n",
       "      <th>75%</th>\n",
       "      <td>4.000000</td>\n",
       "      <td>5299.000000</td>\n",
       "      <td>4.000000</td>\n",
       "      <td>4.000000</td>\n",
       "      <td>3396.000000</td>\n",
       "      <td>3.000000</td>\n",
       "      <td>949.000000</td>\n",
       "      <td>1395.000000</td>\n",
       "      <td>62.000000</td>\n",
       "      <td>60.000000</td>\n",
       "      <td>80.000000</td>\n",
       "      <td>446.000000</td>\n",
       "      <td>702.000000</td>\n",
       "      <td>3.382000e+03</td>\n",
       "    </tr>\n",
       "    <tr>\n",
       "      <th>max</th>\n",
       "      <td>6.000000</td>\n",
       "      <td>6987.000000</td>\n",
       "      <td>7.000000</td>\n",
       "      <td>411.000000</td>\n",
       "      <td>27100.000000</td>\n",
       "      <td>20.000000</td>\n",
       "      <td>14700.000000</td>\n",
       "      <td>14700.000000</td>\n",
       "      <td>171.000000</td>\n",
       "      <td>154.000000</td>\n",
       "      <td>285.000000</td>\n",
       "      <td>2715.000000</td>\n",
       "      <td>2088.000000</td>\n",
       "      <td>8.516859e+06</td>\n",
       "    </tr>\n",
       "  </tbody>\n",
       "</table>\n",
       "</div>"
      ],
      "text/plain": [
       "           market_id       store_id  order_protocol    total_items  \\\n",
       "count  196827.000000  196827.000000   196827.000000  196827.000000   \n",
       "mean        2.977706    3530.348905        2.873356       3.196889   \n",
       "std         1.524205    2053.512892        1.506043       2.667076   \n",
       "min         1.000000       1.000000        1.000000       1.000000   \n",
       "25%         2.000000    1686.000000        1.000000       2.000000   \n",
       "50%         3.000000    3592.000000        3.000000       3.000000   \n",
       "75%         4.000000    5299.000000        4.000000       4.000000   \n",
       "max         6.000000    6987.000000        7.000000     411.000000   \n",
       "\n",
       "            subtotal  num_distinct_items  min_item_price  max_item_price  \\\n",
       "count  196827.000000       196827.000000   196827.000000   196827.000000   \n",
       "mean     2682.935720            2.671300      686.238849     1159.853074   \n",
       "std      1822.639727            1.630412      522.015162      558.436427   \n",
       "min         0.000000            1.000000      -86.000000        0.000000   \n",
       "25%      1400.000000            1.000000      299.000000      800.000000   \n",
       "50%      2200.000000            2.000000      595.000000     1095.000000   \n",
       "75%      3396.000000            3.000000      949.000000     1395.000000   \n",
       "max     27100.000000           20.000000    14700.000000    14700.000000   \n",
       "\n",
       "       total_onshift     total_busy  total_outstanding_orders  \\\n",
       "count  196827.000000  196827.000000             196827.000000   \n",
       "mean       43.952293      41.043114                 56.635335   \n",
       "std        33.294122      30.985130                 50.791870   \n",
       "min         0.000000       0.000000                  0.000000   \n",
       "25%        18.000000      16.000000                 18.000000   \n",
       "50%        36.000000      35.000000                 43.000000   \n",
       "75%        62.000000      60.000000                 80.000000   \n",
       "max       171.000000     154.000000                285.000000   \n",
       "\n",
       "       estimated_order_place_duration  \\\n",
       "count                   196827.000000   \n",
       "mean                       308.582374   \n",
       "std                         90.153111   \n",
       "min                          0.000000   \n",
       "25%                        251.000000   \n",
       "50%                        251.000000   \n",
       "75%                        446.000000   \n",
       "max                       2715.000000   \n",
       "\n",
       "       estimated_store_to_consumer_driving_duration  real_delivery_time  \n",
       "count                                 196827.000000        1.968270e+05  \n",
       "mean                                     545.365748        2.908976e+03  \n",
       "std                                      219.337837        1.925853e+04  \n",
       "min                                        0.000000        1.010000e+02  \n",
       "25%                                      382.000000        2.104000e+03  \n",
       "50%                                      544.000000        2.661000e+03  \n",
       "75%                                      702.000000        3.382000e+03  \n",
       "max                                     2088.000000        8.516859e+06  "
      ]
     },
     "execution_count": 32,
     "metadata": {},
     "output_type": "execute_result"
    }
   ],
   "source": [
    "delivery_df.describe()"
   ]
  },
  {
   "cell_type": "code",
   "execution_count": 33,
   "metadata": {},
   "outputs": [
    {
     "data": {
      "text/plain": [
       "13"
      ]
     },
     "execution_count": 33,
     "metadata": {},
     "output_type": "execute_result"
    }
   ],
   "source": [
    "delivery_df['min_item_price'][delivery_df.min_item_price < 0].count()"
   ]
  },
  {
   "cell_type": "code",
   "execution_count": 34,
   "metadata": {},
   "outputs": [
    {
     "name": "stderr",
     "output_type": "stream",
     "text": [
      "C:\\Users\\User\\AppData\\Local\\Temp/ipykernel_12048/3818862125.py:1: SettingWithCopyWarning: \n",
      "A value is trying to be set on a copy of a slice from a DataFrame\n",
      "\n",
      "See the caveats in the documentation: https://pandas.pydata.org/pandas-docs/stable/user_guide/indexing.html#returning-a-view-versus-a-copy\n",
      "  delivery_df['min_item_price'][delivery_df.min_item_price < 0] = 0\n"
     ]
    }
   ],
   "source": [
    "delivery_df['min_item_price'][delivery_df.min_item_price < 0] = 0"
   ]
  },
  {
   "cell_type": "code",
   "execution_count": 35,
   "metadata": {},
   "outputs": [],
   "source": [
    "# 하루 넘는 경우 일단 다 drop\n",
    "delivery_df.drop(delivery_df.loc[delivery_df.real_delivery_time > 86400].index, inplace=True)"
   ]
  },
  {
   "cell_type": "code",
   "execution_count": 36,
   "metadata": {},
   "outputs": [
    {
     "data": {
      "image/png": "[encoded data removed]",
      "text/plain": [
       "<Figure size 1800x720 with 1 Axes>"
      ]
     },
     "metadata": {
      "needs_background": "light"
     },
     "output_type": "display_data"
    }
   ],
   "source": [
    "s = sns.catplot(data=delivery_df)\n",
    "s.fig.set_size_inches(25,10)\n",
    "plt.show()"
   ]
  },
  {
   "cell_type": "code",
   "execution_count": 37,
   "metadata": {},
   "outputs": [
    {
     "data": {
      "image/png": "[encoded data removed]",
      "text/plain": [
       "<Figure size 1440x720 with 1 Axes>"
      ]
     },
     "metadata": {
      "needs_background": "light"
     },
     "output_type": "display_data"
    }
   ],
   "source": [
    "plt.figure(figsize=(20,10))\n",
    "plt.boxplot(delivery_df['real_delivery_time'])\n",
    "plt.show()"
   ]
  },
  {
   "cell_type": "code",
   "execution_count": 38,
   "metadata": {},
   "outputs": [
    {
     "data": {
      "text/plain": [
       "189"
      ]
     },
     "execution_count": 38,
     "metadata": {},
     "output_type": "execute_result"
    }
   ],
   "source": [
    "delivery_df['real_delivery_time'][delivery_df.real_delivery_time > 10000].count()"
   ]
  },
  {
   "cell_type": "code",
   "execution_count": 39,
   "metadata": {},
   "outputs": [],
   "source": [
    "delivery_df.drop(delivery_df.loc[delivery_df.real_delivery_time > 10000].index, inplace=True)"
   ]
  },
  {
   "cell_type": "code",
   "execution_count": 40,
   "metadata": {},
   "outputs": [
    {
     "data": {
      "text/plain": [
       "market_id                                       0\n",
       "created_at                                      0\n",
       "actual_delivery_time                            0\n",
       "store_id                                        0\n",
       "store_primary_category                          0\n",
       "order_protocol                                  0\n",
       "total_items                                     0\n",
       "subtotal                                        0\n",
       "num_distinct_items                              0\n",
       "min_item_price                                  0\n",
       "max_item_price                                  0\n",
       "total_onshift                                   0\n",
       "total_busy                                      0\n",
       "total_outstanding_orders                        0\n",
       "estimated_order_place_duration                  0\n",
       "estimated_store_to_consumer_driving_duration    0\n",
       "real_delivery_time                              0\n",
       "dtype: int64"
      ]
     },
     "execution_count": 40,
     "metadata": {},
     "output_type": "execute_result"
    }
   ],
   "source": [
    "delivery_df.isnull().sum()"
   ]
  },
  {
   "cell_type": "code",
   "execution_count": 41,
   "metadata": {},
   "outputs": [
    {
     "data": {
      "text/html": [
       "<div>\n",
       "<style scoped>\n",
       "    .dataframe tbody tr th:only-of-type {\n",
       "        vertical-align: middle;\n",
       "    }\n",
       "\n",
       "    .dataframe tbody tr th {\n",
       "        vertical-align: top;\n",
       "    }\n",
       "\n",
       "    .dataframe thead th {\n",
       "        text-align: right;\n",
       "    }\n",
       "</style>\n",
       "<table border=\"1\" class=\"dataframe\">\n",
       "  <thead>\n",
       "    <tr style=\"text-align: right;\">\n",
       "      <th></th>\n",
       "      <th>market_id</th>\n",
       "      <th>created_at</th>\n",
       "      <th>actual_delivery_time</th>\n",
       "      <th>store_id</th>\n",
       "      <th>store_primary_category</th>\n",
       "      <th>order_protocol</th>\n",
       "      <th>total_items</th>\n",
       "      <th>subtotal</th>\n",
       "      <th>num_distinct_items</th>\n",
       "      <th>min_item_price</th>\n",
       "      <th>max_item_price</th>\n",
       "      <th>total_onshift</th>\n",
       "      <th>total_busy</th>\n",
       "      <th>total_outstanding_orders</th>\n",
       "      <th>estimated_order_place_duration</th>\n",
       "      <th>estimated_store_to_consumer_driving_duration</th>\n",
       "      <th>real_delivery_time</th>\n",
       "    </tr>\n",
       "  </thead>\n",
       "  <tbody>\n",
       "    <tr>\n",
       "      <th>0</th>\n",
       "      <td>1.0</td>\n",
       "      <td>2015-02-06 22:24:17</td>\n",
       "      <td>2015-02-06 23:27:16</td>\n",
       "      <td>1845</td>\n",
       "      <td>4</td>\n",
       "      <td>1.0</td>\n",
       "      <td>4</td>\n",
       "      <td>3441</td>\n",
       "      <td>4</td>\n",
       "      <td>557</td>\n",
       "      <td>1239</td>\n",
       "      <td>33.0</td>\n",
       "      <td>14.0</td>\n",
       "      <td>21.0</td>\n",
       "      <td>446</td>\n",
       "      <td>861.0</td>\n",
       "      <td>3779.0</td>\n",
       "    </tr>\n",
       "    <tr>\n",
       "      <th>1</th>\n",
       "      <td>2.0</td>\n",
       "      <td>2015-02-10 21:49:25</td>\n",
       "      <td>2015-02-10 22:56:29</td>\n",
       "      <td>5477</td>\n",
       "      <td>47</td>\n",
       "      <td>2.0</td>\n",
       "      <td>1</td>\n",
       "      <td>1900</td>\n",
       "      <td>1</td>\n",
       "      <td>1400</td>\n",
       "      <td>1400</td>\n",
       "      <td>1.0</td>\n",
       "      <td>2.0</td>\n",
       "      <td>2.0</td>\n",
       "      <td>446</td>\n",
       "      <td>690.0</td>\n",
       "      <td>4024.0</td>\n",
       "    </tr>\n",
       "    <tr>\n",
       "      <th>2</th>\n",
       "      <td>3.0</td>\n",
       "      <td>2015-01-22 20:39:28</td>\n",
       "      <td>2015-01-22 21:09:09</td>\n",
       "      <td>5477</td>\n",
       "      <td>51</td>\n",
       "      <td>1.0</td>\n",
       "      <td>1</td>\n",
       "      <td>1900</td>\n",
       "      <td>1</td>\n",
       "      <td>1900</td>\n",
       "      <td>1900</td>\n",
       "      <td>1.0</td>\n",
       "      <td>0.0</td>\n",
       "      <td>0.0</td>\n",
       "      <td>446</td>\n",
       "      <td>690.0</td>\n",
       "      <td>1781.0</td>\n",
       "    </tr>\n",
       "    <tr>\n",
       "      <th>3</th>\n",
       "      <td>3.0</td>\n",
       "      <td>2015-02-03 21:21:45</td>\n",
       "      <td>2015-02-03 22:13:00</td>\n",
       "      <td>5477</td>\n",
       "      <td>51</td>\n",
       "      <td>1.0</td>\n",
       "      <td>6</td>\n",
       "      <td>6900</td>\n",
       "      <td>5</td>\n",
       "      <td>600</td>\n",
       "      <td>1800</td>\n",
       "      <td>1.0</td>\n",
       "      <td>1.0</td>\n",
       "      <td>2.0</td>\n",
       "      <td>446</td>\n",
       "      <td>289.0</td>\n",
       "      <td>3075.0</td>\n",
       "    </tr>\n",
       "    <tr>\n",
       "      <th>4</th>\n",
       "      <td>3.0</td>\n",
       "      <td>2015-02-15 02:40:36</td>\n",
       "      <td>2015-02-15 03:20:26</td>\n",
       "      <td>5477</td>\n",
       "      <td>51</td>\n",
       "      <td>1.0</td>\n",
       "      <td>3</td>\n",
       "      <td>3900</td>\n",
       "      <td>3</td>\n",
       "      <td>1100</td>\n",
       "      <td>1600</td>\n",
       "      <td>6.0</td>\n",
       "      <td>6.0</td>\n",
       "      <td>9.0</td>\n",
       "      <td>446</td>\n",
       "      <td>650.0</td>\n",
       "      <td>2390.0</td>\n",
       "    </tr>\n",
       "  </tbody>\n",
       "</table>\n",
       "</div>"
      ],
      "text/plain": [
       "   market_id          created_at actual_delivery_time  store_id  \\\n",
       "0        1.0 2015-02-06 22:24:17  2015-02-06 23:27:16      1845   \n",
       "1        2.0 2015-02-10 21:49:25  2015-02-10 22:56:29      5477   \n",
       "2        3.0 2015-01-22 20:39:28  2015-01-22 21:09:09      5477   \n",
       "3        3.0 2015-02-03 21:21:45  2015-02-03 22:13:00      5477   \n",
       "4        3.0 2015-02-15 02:40:36  2015-02-15 03:20:26      5477   \n",
       "\n",
       "   store_primary_category  order_protocol  total_items  subtotal  \\\n",
       "0                       4             1.0            4      3441   \n",
       "1                      47             2.0            1      1900   \n",
       "2                      51             1.0            1      1900   \n",
       "3                      51             1.0            6      6900   \n",
       "4                      51             1.0            3      3900   \n",
       "\n",
       "   num_distinct_items  min_item_price  max_item_price  total_onshift  \\\n",
       "0                   4             557            1239           33.0   \n",
       "1                   1            1400            1400            1.0   \n",
       "2                   1            1900            1900            1.0   \n",
       "3                   5             600            1800            1.0   \n",
       "4                   3            1100            1600            6.0   \n",
       "\n",
       "   total_busy  total_outstanding_orders  estimated_order_place_duration  \\\n",
       "0        14.0                      21.0                             446   \n",
       "1         2.0                       2.0                             446   \n",
       "2         0.0                       0.0                             446   \n",
       "3         1.0                       2.0                             446   \n",
       "4         6.0                       9.0                             446   \n",
       "\n",
       "   estimated_store_to_consumer_driving_duration  real_delivery_time  \n",
       "0                                         861.0              3779.0  \n",
       "1                                         690.0              4024.0  \n",
       "2                                         690.0              1781.0  \n",
       "3                                         289.0              3075.0  \n",
       "4                                         650.0              2390.0  "
      ]
     },
     "execution_count": 41,
     "metadata": {},
     "output_type": "execute_result"
    }
   ],
   "source": [
    "from sklearn.preprocessing import LabelEncoder\n",
    "\n",
    "le = LabelEncoder()\n",
    "le.fit(delivery_df['store_primary_category'])\n",
    "delivery_df['store_primary_category'] = le.transform(delivery_df['store_primary_category'])\n",
    "\n",
    "delivery_df.head()\n"
   ]
  },
  {
   "cell_type": "code",
   "execution_count": 42,
   "metadata": {},
   "outputs": [
    {
     "data": {
      "text/html": [
       "<div>\n",
       "<style scoped>\n",
       "    .dataframe tbody tr th:only-of-type {\n",
       "        vertical-align: middle;\n",
       "    }\n",
       "\n",
       "    .dataframe tbody tr th {\n",
       "        vertical-align: top;\n",
       "    }\n",
       "\n",
       "    .dataframe thead th {\n",
       "        text-align: right;\n",
       "    }\n",
       "</style>\n",
       "<table border=\"1\" class=\"dataframe\">\n",
       "  <thead>\n",
       "    <tr style=\"text-align: right;\">\n",
       "      <th></th>\n",
       "      <th>market_id</th>\n",
       "      <th>created_at</th>\n",
       "      <th>actual_delivery_time</th>\n",
       "      <th>store_id</th>\n",
       "      <th>store_primary_category</th>\n",
       "      <th>order_protocol</th>\n",
       "      <th>total_items</th>\n",
       "      <th>subtotal</th>\n",
       "      <th>num_distinct_items</th>\n",
       "      <th>min_item_price</th>\n",
       "      <th>max_item_price</th>\n",
       "      <th>total_onshift</th>\n",
       "      <th>total_busy</th>\n",
       "      <th>total_outstanding_orders</th>\n",
       "      <th>estimated_order_place_duration</th>\n",
       "      <th>estimated_store_to_consumer_driving_duration</th>\n",
       "      <th>real_delivery_time</th>\n",
       "    </tr>\n",
       "  </thead>\n",
       "  <tbody>\n",
       "    <tr>\n",
       "      <th>0</th>\n",
       "      <td>1.0</td>\n",
       "      <td>735635</td>\n",
       "      <td>735635</td>\n",
       "      <td>1845</td>\n",
       "      <td>4</td>\n",
       "      <td>1.0</td>\n",
       "      <td>4</td>\n",
       "      <td>3441</td>\n",
       "      <td>4</td>\n",
       "      <td>557</td>\n",
       "      <td>1239</td>\n",
       "      <td>33.0</td>\n",
       "      <td>14.0</td>\n",
       "      <td>21.0</td>\n",
       "      <td>446</td>\n",
       "      <td>861.0</td>\n",
       "      <td>3779.0</td>\n",
       "    </tr>\n",
       "    <tr>\n",
       "      <th>1</th>\n",
       "      <td>2.0</td>\n",
       "      <td>735639</td>\n",
       "      <td>735639</td>\n",
       "      <td>5477</td>\n",
       "      <td>47</td>\n",
       "      <td>2.0</td>\n",
       "      <td>1</td>\n",
       "      <td>1900</td>\n",
       "      <td>1</td>\n",
       "      <td>1400</td>\n",
       "      <td>1400</td>\n",
       "      <td>1.0</td>\n",
       "      <td>2.0</td>\n",
       "      <td>2.0</td>\n",
       "      <td>446</td>\n",
       "      <td>690.0</td>\n",
       "      <td>4024.0</td>\n",
       "    </tr>\n",
       "    <tr>\n",
       "      <th>2</th>\n",
       "      <td>3.0</td>\n",
       "      <td>735620</td>\n",
       "      <td>735620</td>\n",
       "      <td>5477</td>\n",
       "      <td>51</td>\n",
       "      <td>1.0</td>\n",
       "      <td>1</td>\n",
       "      <td>1900</td>\n",
       "      <td>1</td>\n",
       "      <td>1900</td>\n",
       "      <td>1900</td>\n",
       "      <td>1.0</td>\n",
       "      <td>0.0</td>\n",
       "      <td>0.0</td>\n",
       "      <td>446</td>\n",
       "      <td>690.0</td>\n",
       "      <td>1781.0</td>\n",
       "    </tr>\n",
       "    <tr>\n",
       "      <th>3</th>\n",
       "      <td>3.0</td>\n",
       "      <td>735632</td>\n",
       "      <td>735632</td>\n",
       "      <td>5477</td>\n",
       "      <td>51</td>\n",
       "      <td>1.0</td>\n",
       "      <td>6</td>\n",
       "      <td>6900</td>\n",
       "      <td>5</td>\n",
       "      <td>600</td>\n",
       "      <td>1800</td>\n",
       "      <td>1.0</td>\n",
       "      <td>1.0</td>\n",
       "      <td>2.0</td>\n",
       "      <td>446</td>\n",
       "      <td>289.0</td>\n",
       "      <td>3075.0</td>\n",
       "    </tr>\n",
       "    <tr>\n",
       "      <th>4</th>\n",
       "      <td>3.0</td>\n",
       "      <td>735644</td>\n",
       "      <td>735644</td>\n",
       "      <td>5477</td>\n",
       "      <td>51</td>\n",
       "      <td>1.0</td>\n",
       "      <td>3</td>\n",
       "      <td>3900</td>\n",
       "      <td>3</td>\n",
       "      <td>1100</td>\n",
       "      <td>1600</td>\n",
       "      <td>6.0</td>\n",
       "      <td>6.0</td>\n",
       "      <td>9.0</td>\n",
       "      <td>446</td>\n",
       "      <td>650.0</td>\n",
       "      <td>2390.0</td>\n",
       "    </tr>\n",
       "  </tbody>\n",
       "</table>\n",
       "</div>"
      ],
      "text/plain": [
       "   market_id  created_at  actual_delivery_time  store_id  \\\n",
       "0        1.0      735635                735635      1845   \n",
       "1        2.0      735639                735639      5477   \n",
       "2        3.0      735620                735620      5477   \n",
       "3        3.0      735632                735632      5477   \n",
       "4        3.0      735644                735644      5477   \n",
       "\n",
       "   store_primary_category  order_protocol  total_items  subtotal  \\\n",
       "0                       4             1.0            4      3441   \n",
       "1                      47             2.0            1      1900   \n",
       "2                      51             1.0            1      1900   \n",
       "3                      51             1.0            6      6900   \n",
       "4                      51             1.0            3      3900   \n",
       "\n",
       "   num_distinct_items  min_item_price  max_item_price  total_onshift  \\\n",
       "0                   4             557            1239           33.0   \n",
       "1                   1            1400            1400            1.0   \n",
       "2                   1            1900            1900            1.0   \n",
       "3                   5             600            1800            1.0   \n",
       "4                   3            1100            1600            6.0   \n",
       "\n",
       "   total_busy  total_outstanding_orders  estimated_order_place_duration  \\\n",
       "0        14.0                      21.0                             446   \n",
       "1         2.0                       2.0                             446   \n",
       "2         0.0                       0.0                             446   \n",
       "3         1.0                       2.0                             446   \n",
       "4         6.0                       9.0                             446   \n",
       "\n",
       "   estimated_store_to_consumer_driving_duration  real_delivery_time  \n",
       "0                                         861.0              3779.0  \n",
       "1                                         690.0              4024.0  \n",
       "2                                         690.0              1781.0  \n",
       "3                                         289.0              3075.0  \n",
       "4                                         650.0              2390.0  "
      ]
     },
     "execution_count": 42,
     "metadata": {},
     "output_type": "execute_result"
    }
   ],
   "source": [
    "import datetime as dt\n",
    "\n",
    "delivery_df['created_at']=delivery_df['created_at'].map(dt.datetime.toordinal)\n",
    "delivery_df['actual_delivery_time']=delivery_df['actual_delivery_time'].map(dt.datetime.toordinal)\n",
    "\n",
    "delivery_df.head()"
   ]
  },
  {
   "cell_type": "markdown",
   "metadata": {},
   "source": [
    "# 학습/테스트 데이터 구분\n",
    "위 데이터(delivery_raw.csv)에서 랜덤하게 10%를 추출해서 테스트 데이터로 사용하고 나머지는 학습데이터로 사용\n"
   ]
  },
  {
   "cell_type": "code",
   "execution_count": 43,
   "metadata": {},
   "outputs": [
    {
     "data": {
      "text/plain": [
       "(196635, 17)"
      ]
     },
     "execution_count": 43,
     "metadata": {},
     "output_type": "execute_result"
    }
   ],
   "source": [
    "delivery_df.shape"
   ]
  },
  {
   "cell_type": "code",
   "execution_count": 44,
   "metadata": {},
   "outputs": [],
   "source": [
    "from sklearn.model_selection import train_test_split\n",
    "\n",
    "train_dataset, test_dataset = train_test_split(delivery_df, test_size=0.1)"
   ]
  },
  {
   "cell_type": "code",
   "execution_count": 45,
   "metadata": {},
   "outputs": [
    {
     "data": {
      "text/plain": [
       "(176971, 17)"
      ]
     },
     "execution_count": 45,
     "metadata": {},
     "output_type": "execute_result"
    }
   ],
   "source": [
    "train_dataset.shape"
   ]
  },
  {
   "cell_type": "code",
   "execution_count": 46,
   "metadata": {},
   "outputs": [
    {
     "data": {
      "text/plain": [
       "(19664, 17)"
      ]
     },
     "execution_count": 46,
     "metadata": {},
     "output_type": "execute_result"
    }
   ],
   "source": [
    "test_dataset.shape"
   ]
  },
  {
   "cell_type": "code",
   "execution_count": 47,
   "metadata": {},
   "outputs": [],
   "source": [
    "y_train = pd.DataFrame(train_dataset.real_delivery_time)\n",
    "X_train = train_dataset.drop('real_delivery_time', axis=1)\n",
    "y_test = pd.DataFrame(test_dataset.real_delivery_time)\n",
    "X_test = test_dataset.drop('real_delivery_time', axis=1)"
   ]
  },
  {
   "cell_type": "code",
   "execution_count": 48,
   "metadata": {},
   "outputs": [
    {
     "data": {
      "text/plain": [
       "array([[-2.47484780e+01, -2.04752514e+02,  2.06589763e+02,\n",
       "        -5.17647982e-03,  3.38616857e-01,  9.16157999e+00,\n",
       "         1.63943062e+00,  8.64633134e-02,  3.03726657e+01,\n",
       "         1.06318406e-02,  5.98336319e-02, -2.19622823e+01,\n",
       "        -7.33502606e+00,  2.11732043e+01,  1.34067946e+00,\n",
       "         1.14646423e+00]])"
      ]
     },
     "execution_count": 48,
     "metadata": {},
     "output_type": "execute_result"
    }
   ],
   "source": [
    "from sklearn.linear_model import LinearRegression\n",
    "\n",
    "model = LinearRegression()\n",
    "model.fit(X_train, y_train)\n",
    "model.coef_\n"
   ]
  },
  {
   "cell_type": "code",
   "execution_count": 49,
   "metadata": {},
   "outputs": [
    {
     "data": {
      "text/plain": [
       "946.0533161489465"
      ]
     },
     "execution_count": 49,
     "metadata": {},
     "output_type": "execute_result"
    }
   ],
   "source": [
    "from sklearn.metrics import mean_squared_error\n",
    "\n",
    "y_pred = model.predict(X_train)\n",
    "MSE = mean_squared_error(y_train, y_pred)\n",
    "RMSE = np.sqrt(MSE)\n",
    "RMSE\n",
    "\n"
   ]
  },
  {
   "cell_type": "code",
   "execution_count": 50,
   "metadata": {},
   "outputs": [
    {
     "name": "stdout",
     "output_type": "stream",
     "text": [
      "73956\n",
      "under_prediction 비율 :  0.4178989777986224\n"
     ]
    }
   ],
   "source": [
    "under_prediction = y_train.copy()\n",
    "under_prediction['y_pred'] = y_pred\n",
    "under = under_prediction['y_pred'][(under_prediction['real_delivery_time']>under_prediction['y_pred'])].count()\n",
    "print(under)\n",
    "print(\"under_prediction 비율 : \", under/X_train.shape[0])"
   ]
  },
  {
   "cell_type": "markdown",
   "metadata": {},
   "source": [
    "# 제출할 결과물\n",
    " - 간단한 요약문\n",
    " - 데이터 전처리와 속성 생성에 대한 간단한 설명\n",
    " - 학습을 위해서 어떤 모델을 사용했는지 그리고 어떠한 손실함수를 사용했는지를 간단히 설명\n",
    " - 테스트 데이터에 대한 평가지표들 (아래 두가지를 반드시 포함할 것)\n",
    "    1. Root Mean Square Error (RMSE)\n",
    "    2. Under-prediction의 비율 (under-prediction 개수 / 테스트 데이터의 샘플수)\n",
    " - 모델 학습에 사용한 Jupyter notebook 파일"
   ]
  },
  {
   "cell_type": "code",
   "execution_count": 51,
   "metadata": {},
   "outputs": [
    {
     "name": "stdout",
     "output_type": "stream",
     "text": [
      "RMSE :  946.6116290317036\n"
     ]
    }
   ],
   "source": [
    "y_test_pred = model.predict(X_test)\n",
    "\n",
    "MSE = mean_squared_error(y_test, y_test_pred)\n",
    "RMSE = np.sqrt(MSE)\n",
    "print(\"RMSE : \", RMSE)"
   ]
  },
  {
   "cell_type": "code",
   "execution_count": 52,
   "metadata": {},
   "outputs": [
    {
     "name": "stdout",
     "output_type": "stream",
     "text": [
      "under_prediction 수 :  8245\n",
      "under_prediction 비율 :  0.41929414157851913\n"
     ]
    }
   ],
   "source": [
    "under_prediction = y_test.copy()\n",
    "under_prediction['y_pred'] = y_test_pred\n",
    "under = under_prediction['y_pred'][(under_prediction['real_delivery_time']>under_prediction['y_pred'])].count()\n",
    "print(\"under_prediction 수 : \",under)\n",
    "print(\"under_prediction 비율 : \", under/X_test.shape[0])"
   ]
  }
 ],
 "metadata": {
  "interpreter": {
   "hash": "8d2221d79d1046532cce1bdba11568263005a1b205b4478d85e61b356a7d1d55"
  },
  "kernelspec": {
   "display_name": "Python 3.8.5 ('KDT_AI3')",
   "language": "python",
   "name": "python3"
  },
  "language_info": {
   "codemirror_mode": {
    "name": "ipython",
    "version": 3
   },
   "file_extension": ".py",
   "mimetype": "text/x-python",
   "name": "python",
   "nbconvert_exporter": "python",
   "pygments_lexer": "ipython3",
   "version": "3.8.5"
  },
  "orig_nbformat": 4
 },
 "nbformat": 4,
 "nbformat_minor": 2
}
