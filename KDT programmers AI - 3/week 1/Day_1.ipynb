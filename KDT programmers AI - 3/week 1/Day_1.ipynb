{
 "cells": [
  {
   "cell_type": "markdown",
   "metadata": {},
   "source": [
    "**_1주차_** 는 자료구조와 기본 알고리즘에 대한 내용으로 구성되어있다.\n",
    "\n",
    "따라서, 간략하게 기억해야 할 요점을 중심으로 TIL을 작성하고자 한다."
   ]
  },
  {
   "cell_type": "markdown",
   "metadata": {},
   "source": [
    "# ⬛ Recursive vs Iterative\n",
    "  \n",
    "## recursive와 iterative의차이점을 제대로 알고있는 것은 꽤나 중요하다.\n",
    "## Day 1의 강의에서는 이를 간략하고 명확하게 설명했다.\n",
    "\n",
    "> iterative와 비교했을 때 '복잡도'가 크게 차이나지 않을 지라도 '효율성'의 측면에서   \n",
    "> recursive는 N 크기에 따라 함수를 호출하고 리턴하는, 부가적인 수행이 필요하다.\n",
    "\n",
    "즉, 사람이 이해하기에 재귀적으로 쉽게 풀리는 알고리즘은 컴퓨터 실행하기에 효율적이지 않을 수 있으며\n",
    "시간복잡도와 공간복잡도 외에 함수의 호출 역시 그 효율성에 영향을 끼칠 수 있음을 인지하고 있어야 한다.\n",
    "\n",
    "### ✔ 모든 재귀 함수는 비재귀함수로 구현이 가능하기 때문에\n",
    "###  &nbsp;&nbsp;&nbsp; 자유자재로 바꿔가며 구현이 가능하게끔 연습해야겠다.\n",
    "\n"
   ]
  },
  {
   "cell_type": "markdown",
   "metadata": {},
   "source": []
  }
 ],
 "metadata": {
  "language_info": {
   "name": "python"
  },
  "orig_nbformat": 4
 },
 "nbformat": 4,
 "nbformat_minor": 2
}
