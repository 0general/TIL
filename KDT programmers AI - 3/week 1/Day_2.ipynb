{
 "cells": [
  {
   "cell_type": "markdown",
   "metadata": {},
   "source": [
    "# ⬛ Stack\n",
    "## ◼ 후위 표기식\n",
    "\n",
    "중위 표기식을 후위 표기식으로 바꾸는 것은 CS 면접에서도 종종 나오는 질문이다.\n",
    "그만큼 Stack이라는 자료구조를 제대로 이해하고, 이용할 수 있는지 판단할 수 있는 문제로 적합하다는 의미이기도 하다.\n",
    "\n",
    "> Day 2의 강의에서는 이 문제를 풀기 위해 크게 2가지로 문제를 나누었다.  \n",
    "> \n",
    ">> 1. 연산자와 피연산자의 구분  \n",
    ">> 2. 연산자의 우선순위 처리  \n",
    "\n",
    "여기서 주목할 만한 점은 괄호의 우선순위를 가장 **낮게** 설정했다는 점이다.   \n",
    "사실, 우리는 수학을 배울 때 늘 괄호를 먼저 처리하도록 배웠기 때문에 구현 방식에 대한 정의가 없다면 헷갈리기 쉽다.\n",
    "\n",
    "> stack에는 아직 처리되지 않은, 상대적으로 낮은 연산자들이 담긴다.\n",
    "\n",
    " 매 연산자마다 스택에 남아있는 연산자들과의 우선순위를 비교해서 더 작은 우선수위를 가진 연산자만을 스택에 남기는데,  \n",
    " 이전에 처리되지 않은 연산자들과 괄호 안의 연산자들은 같은 연산자일지라도 구분되어져야 한다.  \n",
    " 괄호의 우선순위를 가장 낮게 설정하고 stack에 집어넣음으로써 이를 충족하는 것이다.  \n"
   ]
  },
  {
   "cell_type": "markdown",
   "metadata": {},
   "source": [
    "# 코드의 수행 내용을 문제 풀이 식으로 바꾼다면 다음과 같다."
   ]
  },
  {
   "cell_type": "code",
   "execution_count": null,
   "metadata": {},
   "outputs": [],
   "source": [
    "import sys\n",
    "\n",
    "input = sys.stdin.readline\n",
    "tokenList = input().rstrip()\n",
    "\n",
    "prec = {\n",
    "    '*': 3, '/': 3,\n",
    "    '+': 2, '-': 2,\n",
    "    '(': 1\n",
    "}\n",
    "\n",
    "\n",
    "opStack = []\n",
    "answer = ''\n",
    "for token in tokenList:\n",
    "    if token == \"(\":\n",
    "        opStack.append(token)\n",
    "    elif token == \")\":\n",
    "        while opStack[-1] != \"(\":\n",
    "            answer += opStack.pop()\n",
    "        opStack.pop()\n",
    "    elif token in prec:  # 연산자일 때\n",
    "        while len(opStack) > 0 and prec[opStack[-1]] >= prec[token]:\n",
    "            answer += opStack.pop()\n",
    "        opStack.append(token)\n",
    "    else:  # 피연산자일 때\n",
    "        answer += token\n",
    "while len(opStack):\n",
    "    answer += opStack.pop()\n",
    "\n",
    "print(answer)"
   ]
  }
 ],
 "metadata": {
  "language_info": {
   "name": "python"
  },
  "orig_nbformat": 4
 },
 "nbformat": 4,
 "nbformat_minor": 2
}
