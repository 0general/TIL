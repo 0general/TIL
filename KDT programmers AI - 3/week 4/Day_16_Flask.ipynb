{
 "cells": [
  {
   "cell_type": "markdown",
   "metadata": {},
   "source": [
    "# Flask 시작하기"
   ]
  },
  {
   "cell_type": "markdown",
   "metadata": {},
   "source": [
    "웹 어플리케이션을 구축하는데 이용되는 파이썬 웹 프레임워크로는 Flask와 Django가 있습니다.  \n",
    "\n",
    "\n",
    "그 중 **Flask**는 더 간단하다고 평가받는 Python 기반 마이크로 웹 프레임워크로,   \n",
    "'마이크로' 는 작다라는 의미보다는 **essential** 한 것은 다 있다는 의미로 해석해야 합니다.  \n",
    "\n",
    "\n",
    "따라서 어떤 기능을 구현할 때, essential한 기능은 이미 다 있고 추가로 어떤 것들을 추가해가면서 쓸 수 있습니다.  \n",
    "\n",
    "\n",
    "굉장히 가볍고 작은 프로젝트에 적합합니다.\n",
    "\n"
   ]
  },
  {
   "cell_type": "markdown",
   "metadata": {},
   "source": []
  },
  {
   "cell_type": "markdown",
   "metadata": {},
   "source": [
    "## 가상환경\n",
    "### 목적에 따른 모듈만 있는 환경 구축 \n",
    "\n",
    "\n",
    "#### 파이썬 가상환경 모듈 설치 (CLI 환경)   \n",
    "\n",
    "* 파이썬 가상환경 모듈 설치  \n",
    "> pip install virtualenv  \n",
    "* 현재 디렉토리에 새 virtualenv 가상환경 만들기   \n",
    "  - virtualenv <가상환경>   \n",
    "> virtualenv venv\n",
    "* 가상환경 진입 (운영체제에 따라 다름)\n",
    "  - Mac : source <가상환경>/bin/activate\n",
    "  - Windows : ./<가상환경>/Scripts/activate.bat\n",
    "> source venv/bin/activate\n",
    "> ./venv/Scripts/activate.bat\n",
    "\n",
    "\n",
    "* 현재 가상환경 내 모듈 설치 목록 확인\n",
    "> pip freeze\n",
    "\n",
    "\n"
   ]
  },
  {
   "cell_type": "markdown",
   "metadata": {},
   "source": [
    "* flask 설치\n",
    "> pip install flask\n",
    "\n"
   ]
  },
  {
   "cell_type": "markdown",
   "metadata": {},
   "source": [
    "## Flask 시작하기"
   ]
  },
  {
   "cell_type": "markdown",
   "metadata": {},
   "source": [
    "가상환경 폴더에 app.py 파일을 만든다."
   ]
  },
  {
   "cell_type": "code",
   "execution_count": null,
   "metadata": {},
   "outputs": [],
   "source": [
    "# in ./app.py\n",
    "\n",
    "from flask import Flask # Flask 클래스를 import\n",
    "app = Flask(__name__) # Flask 객체 생성, Flask에 이 이름__name__을 앱으로 넣어준다\n",
    "\n",
    "@app.route('/') # @ : 데코레이터, Flask에서 데코레이터의 의미 : 해당 주소를 요청받았을 때 밑의 함수를 실행하라는 의미\n",
    "\n",
    "def hello_code():\n",
    "    return 'Hello World!'\n",
    "\n",
    "if __name__ == '__main__': # name space가 main인 경우, \n",
    "    app.run()              # 즉 app.py가 모듈이 아닌 직접적인 실행파일로 실행될때는 app의 위 logic을 사용하라는 의미"
   ]
  },
  {
   "cell_type": "markdown",
   "metadata": {},
   "source": [
    "/요청에 대해 'Hello World!'를 응답"
   ]
  },
  {
   "cell_type": "markdown",
   "metadata": {},
   "source": [
    "## 실행하기\n",
    "\n",
    "CLI 환경에서 app.py가 잘 만들어진 것을 확인하고,  \n",
    "\n",
    "이 상황에서 \n",
    "> flask run\n",
    "을 실행하게 되면\n",
    "\n",
    "> Running on http://127.0.0.1:5000/ 이 열리게 되고 (5000은 포트번호)  \n",
    "> 이 주소를 방문하면 'Hello World!'라고 하는 문장을 확인할 수 있다.\n",
    "\n",
    "\n"
   ]
  },
  {
   "cell_type": "markdown",
   "metadata": {},
   "source": [
    "---\n"
   ]
  },
  {
   "cell_type": "markdown",
   "metadata": {},
   "source": [
    "\n",
    "# 인터넷과 웹\n",
    "\n",
    "\n",
    "* 인터넷(Internet)  \n",
    "전 세계 컴퓨터를 하나로 합치는 거대한 **통신망**  \n",
    "\n",
    "\n",
    "* 웹(Web)\n",
    "   인터넷에 연결된 사용자들이 정보를 공유할 수 있는 공간\n",
    "   ex. naver.com, google.kr, ...\n",
    "\n",
    "\n",
    "웹은 인터넷의 부분집합이며, 같은 인터넷(망)에 속하더라도 웹에 속하지 않는 대표적인 프로토콜로는 **메일**이 있습니다.  \n",
    "\n",
    "\n",
    "웹은 공간으로서의 의미로 인식해주는 것이 좋다.\n",
    "\n",
    "\n",
    "웹에 있는 개개의 정보를 웹 페이지, 웹 페이지의 집합을 웹 사이트라고 한다.  \n",
    "\n",
    "\n"
   ]
  },
  {
   "cell_type": "markdown",
   "metadata": {},
   "source": [
    "---"
   ]
  },
  {
   "cell_type": "markdown",
   "metadata": {},
   "source": [
    "웹은 클라이언트(정보를 요청하는 입장)와 서버(정보를 제공하는 입장) 사이의 소통이다.\n",
    "\n",
    "#### 우리가 Web을 사용하는 방법\n",
    "> 1. 웹 브라우저(Chrome, Safari, ...)를 켠다.\n",
    "> 2. 주소창에 주소를 입력한다.\n",
    "> 3. Enter를 누르면 원하는 정보가 나온다.  \n",
    "> &nbsp;&nbsp;&nbsp; 3-1. 혹은 간혹 에러페이지가 나온다.\n",
    "\n",
    "\n",
    "## 웹의 동작방식\n",
    "> 요청 → 처리 → 응답\n",
    "\n",
    "\n",
    "1. **Request** : Client가 Server에 정보를 요청한다.\n",
    "   - naver.com/blog → naver.com 과 /blog로 나뉘어서 naver.com의 blog라는 정보를 요청\n",
    "2. Server는 이 요청받은 정보에 대한 처리를 진행한다. \n",
    "   - 어딘가에 있는 데이터베이스로부터 정보를 가져오거나\n",
    "   - 렌더링 프로그램에 의해서 웹 페이지 CSS나 html 을 렌더링, 혹은 정보를 바탕으로 페이즈를 채워서 준비한다.\n",
    "3. **Response** : Server가 Client에게 요청에 대해 응답한다.\n",
    "   - 200 Ok\n",
    "   - 잘못된 요청 403 or 500 or ...\n",
    "\n",
    "\n",
    "결국 Web은 Request와 Response의 수많은 상호작용이 만드는 것이다.\n",
    "\n",
    "\n",
    "## HTTP\n",
    "> 웹을 사용하는 사람들간의 약속 Protocol  \n",
    "> - HTTP Request  : HTTP Verb <ex. POST, GET, ...>  \n",
    "> - HTTP Response : <ex. HTML, CSS, ...>  \n",
    "\n",
    "\n",
    "server의 입장에서는 클라이언트로부터 요청이 들어왔을 때 무슨 일을 해야 할지 명세를 적어주게 되는데,  \n",
    "이를 해줄 수 있게 하는 프레임워크가 flask와 django입니다."
   ]
  },
  {
   "cell_type": "markdown",
   "metadata": {},
   "source": []
  },
  {
   "cell_type": "code",
   "execution_count": null,
   "metadata": {},
   "outputs": [],
   "source": []
  },
  {
   "cell_type": "code",
   "execution_count": null,
   "metadata": {},
   "outputs": [],
   "source": []
  },
  {
   "cell_type": "markdown",
   "metadata": {},
   "source": []
  },
  {
   "cell_type": "code",
   "execution_count": null,
   "metadata": {},
   "outputs": [],
   "source": []
  },
  {
   "cell_type": "markdown",
   "metadata": {},
   "source": []
  },
  {
   "cell_type": "code",
   "execution_count": null,
   "metadata": {},
   "outputs": [],
   "source": []
  },
  {
   "cell_type": "markdown",
   "metadata": {},
   "source": [
    "# REST API\n",
    "\n",
    "## API (Application Programming Interface)\n",
    "> 프로그램들이 서로 상호작용하는 것을 도와주는 매개체 \n",
    "\n",
    "## RESTful (Representational State Transfer)\n",
    "> 웹 서버가 요청을 응답하는 방법론 중 하나로  \n",
    "> 데이터가 아닌 **자원(Resource)**의 관점으로 접근\n",
    "\n",
    "- **HTTP URI**을 통해 자원을 병시하고  \n",
    "- **HTTP Method**를 통해 해당 자원에 대한 CRUD를 진행\n",
    "\n",
    "\n",
    "* **HTTP URI** : 요청의 대상 위치   \n",
    "  - URI (Identifier) : 서로 다른 두 자료를 식별하며 URL을 포함함\n",
    "  - URL (Location) : 실제 그 위치에 존재한다는 의미 \n",
    "  &nbsp;&nbsp;즉,  http://www.test.com/index.html, http://www.test.com/index가 모두 index.html을 가리킬 때,  \n",
    "  &nbsp;&nbsp; http://www.test.com/index.html는 실제로 웹서버에 존재하므로 URL이지만  \n",
    "  &nbsp;&nbsp; http://www.test.com/index는 index 파일이 웹서버에 존재하지 않기 때문에 URL이 아니다.  \n",
    "  하지만 위 두 주소는 모두 URI이다. (/index를 서버 내부에서 처리해서 index.html을 가리키기 때문) \n",
    "\n",
    "\n",
    "## URI의 구조\n",
    "> scheme:[//[user[:password]@]host[:port]][/path][?query][#fragment]\n",
    "1. scheme : 사용할 프로토콜을 뜻하며 웹에서는 http 또는 https를 사용\n",
    "2. user와 password : (서버에 있는) 데이터에 접근하기 위한 사용자의 이름과 비밀번호\n",
    "3. host와 port : 접근할 대상(서버)의 호스트명과 포트번호\n",
    "4. path : 접근할 대상(서버)의 경로에 대한 상세 정보\n",
    "5. query : 접근할 대상에 전달하는 추가적인 정보 (파라미터)\n",
    "6. fragment : 메인 리소스 내에 존재하는 서브 리소스에 접근할 때 이를 식별하기 위한 정보\n",
    "\n",
    "\n",
    "\n",
    "* **HTTP Method** : 함수\n",
    "  - GET  <ex. GET/home  ← method 뒤는 자원>\n",
    "  - POST <ex. POST/shoes/1>\n",
    "  - PUT\n",
    "\n",
    "\n",
    "### 자원의 관점으로 보는 것의 장점\n",
    "\n",
    "|HTTP Method|Resource|\n",
    "|--|--|\n",
    "|GET|/order|\n",
    "|POST|/order|\n",
    "|PUT|/order|\n",
    "|DELETE|/order|\n",
    "\n",
    "\n",
    "위 테이블은 현재 주소, URI가 /order로 모두 같다.  \n",
    "그런데 자원의 관점에서 Method를 다르게 취한다면  \n",
    "같은 Resource에 대해서 다른 action을 행할 수 있다.\n",
    "\n",
    "> Resource는 동사적 의미를 담지 않음에 유의하자. 오로지 명사처럼 대상을 가리키는 URI로만 설정한다.  \n",
    "\n",
    "\n",
    "## REST API의 Stateless 무상태성\n",
    "\n",
    "Client의 Context를 서버에서 유지하지 않는다.  \n",
    "\n",
    "서버가 로그인 정보를 가지고 있어서 항상 체크해야 한다거나 하는 상황없이  \n",
    "그냥 요청이 들어왔을 때 그 요청에 한해서는 항상 똑같은 정보만을 보내준다.\n",
    "\n",
    "\n",
    "ex) 예시\n",
    " - POST/shoes 는 자원에 새로운 정보를 생성\n",
    " - GET/shoes 는 DB에서 shoes가 있는지 확인 후 해당 자원 반환\n",
    " - (서버 입장에서) 아이템을 GET하기 위해서 POST를 진행할 필요가 없음\n",
    "\n",
    "> 서버가 GET을 하기 위해서 POST를 한 적이 있는지 헤아릴 이유가 없다. (그냥 없으면 Error 반환하면 된다.)    \n",
    "> 즉 둘 사이에 종속 관계가 없다.  \n",
    "\n",
    "\n",
    "\n"
   ]
  },
  {
   "cell_type": "markdown",
   "metadata": {},
   "source": [
    "### REST API 를 만들어보자"
   ]
  },
  {
   "cell_type": "code",
   "execution_count": null,
   "metadata": {},
   "outputs": [],
   "source": [
    "# app.py\n",
    "\n",
    "from flask import Flask, jsonify, request # flask를 이용해서 REST API를 구현하기 위해서는 jsonify, request필요\n",
    "# jsonify는 파이썬에서 사용되는 dictionary 타입을 javascript에서 쓰는 json이라는 저장방식으로 바꿔준다. \n",
    "# request는 HTTP Request를 다룰 수 있는 모듈\n",
    "\n",
    "app = Flask(__name__) \n",
    "\n",
    "menus = [\n",
    "    {\"id\":1, \"name\":\"Espresso\", \"price\":3800},\n",
    "    {\"id\":2, \"name\":\"Americano\", \"price\":4100},\n",
    "    {\"id\":3, \"name\":\"CaffeLatte\", \"price\":4600},\n",
    "] #list는 json으로 변환 불가\n",
    "\n",
    "@app.route('/') \n",
    "\n",
    "def hello_code():\n",
    "    return 'Hello World!'\n",
    "\n",
    "# GET /menus | 자료를 가지고 온다.\n",
    "@app.route('/menus') # /menus에 접근할 때\n",
    "def get_menus():\n",
    "    return jsonify({\"menus\": menus}) # menus는 리스트이기 때문에(json변환 불가) menus를 value로 하는 새로운 딕셔너리를 만들어야 한다.\n",
    "\n",
    "\n",
    "# POST /menus | 자료를 자원에 추가한다.\n",
    "@app.route('/menus',methods=['POST']) # route의 기본적인 인자 method의 default값은  ['GET']이다. 이 인자에는 리스트가 들어간다.\n",
    "def create_menu(): \n",
    "    # 전달받은 자료를 menus 자원에 추가\n",
    "    # 전달받은 정보의 형식도 중요한데, 여기서는 JSON으로 받았음을 가정하고 파싱 진행\n",
    "    request_data = request.get_json() # 우리가 import한 request라는 변수에는 자동적으로 클라이언트가 서버로 POST했던 자료가 담겨있다.\n",
    "    # get_json으로 파싱한 request_data는 파이썬이 알아볼 수 있는 데이터 형태인 dictionary가 된다.\n",
    "    # json과 dictionary는 실제로는 완전히 같은 데이터 타입은 아니기 때문에 꼭 get_json이라는 과정을 거쳐야 한다.\n",
    "    # {\"name\":..., \"price\":...}\n",
    "    new_menu = {\n",
    "        \"id\" : 4,\n",
    "        \"name\" : request_data['name'],\n",
    "        \"price\": request_data['price'],\n",
    "    } # 이렇게 POST에서 딸려오는 데이터들을 페이로드 payload라고도 한다.\n",
    "\n",
    "    menus.append(new_menu)\n",
    "    return jsonify(new_menu)\n",
    "\n",
    "\n",
    "if __name__ == '__main__':\n",
    "    app.run()  "
   ]
  },
  {
   "cell_type": "markdown",
   "metadata": {},
   "source": [
    "Flask web server를 실행한 다음에 주소에 menus를 추가하게 되면 GET한 결과를 확인할 수 있다.\n",
    "\n",
    "\n",
    "하지만 POST를 확인하기에는 브라우저는 적절하지 않기 때문에\n",
    "\n",
    "## 'Postman' API tool\n",
    "로 확인해보자.\n",
    "\n",
    "\n",
    "postman.com 에서 운영체제에 맞게 다운로드를 받고,  \n",
    "\n",
    "왼쪽에서 Collections을 선택해서 이름(REST API with Flask)을 지어서 collection(API 집합)을 만들어보자.\n",
    "\n",
    "마치 폴더같은 collection 에 들어와서 오른쪽에(아마 중앙 상단)  + 를 누르자.  \n",
    "\n",
    "그럼 Untitled Request라는 말과 함께 뜬다.   \n",
    "GET이 써진 버튼을 누르면 다양한 HTTP Methods를 확인할 수 있다. \n",
    "\n",
    "\n",
    "* 404 NOT FOUND : 클라이언트가 서버에게 정의되지 않은 요청을 보냈을 경우\n",
    "\n",
    "\n",
    "API 상황을 Sae 버튼을 눌러서 저장을 해줄 수도 있다. 보통 저장을 할 때는 리소스의 앞부분은 지우는 경우가 많다. (/menus 만 남긴다)\n",
    "\n",
    "### POST in POSTMAN\n",
    "\n",
    "정보는 BODY에 실리게 된다.   \n",
    "\n",
    "BODY에서 raw 타입을 선택하고  \n",
    "'''\n",
    "{\n",
    "    \"name\" : \"Dolce Latte\",\n",
    "    \"price\" : 5100\n",
    "}\n",
    "'''\n",
    "을 적은 후 Text 부분은 JSON 타입으로 바꿔준다."
   ]
  },
  {
   "cell_type": "markdown",
   "metadata": {},
   "source": [
    "하지만 서버를 껐다 키면 파이썬 리스트는 저장되지 않은 초기 상태로 돌아오게 된다.  \n",
    "따라서 변경사항을 저장하기 위해 데이터베이스를 연동해야 한다.  "
   ]
  }
 ],
 "metadata": {
  "interpreter": {
   "hash": "8d2221d79d1046532cce1bdba11568263005a1b205b4478d85e61b356a7d1d55"
  },
  "kernelspec": {
   "display_name": "Python 3.8.5 64-bit ('KDT_AI3': conda)",
   "language": "python",
   "name": "python3"
  },
  "language_info": {
   "codemirror_mode": {
    "name": "ipython",
    "version": 3
   },
   "file_extension": ".py",
   "mimetype": "text/x-python",
   "name": "python",
   "nbconvert_exporter": "python",
   "pygments_lexer": "ipython3",
   "version": "3.8.5"
  },
  "orig_nbformat": 4
 },
 "nbformat": 4,
 "nbformat_minor": 2
}
