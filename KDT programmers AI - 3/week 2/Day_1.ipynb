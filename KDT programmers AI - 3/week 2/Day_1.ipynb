{
 "cells": [
  {
   "cell_type": "markdown",
   "metadata": {},
   "source": [
    "# 배운 목록 & 기억할 만한 내용 \n",
    "  \n",
    "jupyternotebook | numpy | linear algebra\n",
    ":---: | :---: | :---:\n",
    "`%` : jupyternotebook만의 특별한 문법 | `np.linalg.inv()` : 역행렬 | Gaussian Elimination\n",
    "`markdown` 사용법 | `@` : 벡터의 곱 (A @ x= np.matmul(A,x)) | rank\n",
    "| | `np.linalg.norm` : 벡터의 크기 | | "
   ]
  },
  {
   "cell_type": "markdown",
   "metadata": {},
   "source": [
    "전반적으로 전공 수업 때 이미 들었던 내용이라 다시 확인하는 방식으로 학습을 진행했다.\n",
    "\n",
    "✔ 차원을 확인할 때 (3,)가 나오는 이유( 파이썬 문법에 따라 (3)은 그냥 3이기 때문 )를 언급해주셔서 좋았다. \n",
    "✔ numpy를 사용할 때의 수치 계산 상의 이점을 예를 들어 보여주신 점 역시 좋았다. ( ㎲(e-06) ↔ ㎱(e-09) )"
   ]
  },
  {
   "cell_type": "code",
   "execution_count": 1,
   "metadata": {},
   "outputs": [],
   "source": [
    "import numpy as np"
   ]
  },
  {
   "cell_type": "code",
   "execution_count": 2,
   "metadata": {},
   "outputs": [
    {
     "name": "stdout",
     "output_type": "stream",
     "text": [
      "[1. 4.]\n"
     ]
    }
   ],
   "source": [
    "A = np.array([[1,2],[0,3]])\n",
    "b = np.array([9,12])\n",
    "x = np.linalg.inv(A)@b\n",
    "print(x)"
   ]
  }
 ],
 "metadata": {
  "interpreter": {
   "hash": "8fac594bfae6525c0c41b4041d2d72effa188cc8ead05f81b1fab2bb098927fb"
  },
  "kernelspec": {
   "display_name": "Python 3.7.7 64-bit (conda)",
   "language": "python",
   "name": "python3"
  },
  "language_info": {
   "codemirror_mode": {
    "name": "ipython",
    "version": 3
   },
   "file_extension": ".py",
   "mimetype": "text/x-python",
   "name": "python",
   "nbconvert_exporter": "python",
   "pygments_lexer": "ipython3",
   "version": "3.7.7"
  },
  "orig_nbformat": 4
 },
 "nbformat": 4,
 "nbformat_minor": 2
}
